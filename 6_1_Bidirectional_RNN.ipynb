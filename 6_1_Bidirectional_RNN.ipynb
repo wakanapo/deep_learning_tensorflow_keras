{
 "cells": [
  {
   "cell_type": "code",
   "execution_count": 1,
   "metadata": {},
   "outputs": [
    {
     "name": "stderr",
     "output_type": "stream",
     "text": [
      "/home/shimazu/.pyenv/versions/anaconda3-5.0.1/lib/python3.6/importlib/_bootstrap.py:219: RuntimeWarning: compiletime version 3.5 of module 'tensorflow.python.framework.fast_tensor_util' does not match runtime version 3.6\n",
      "  return f(*args, **kwds)\n"
     ]
    }
   ],
   "source": [
    "import numpy as np\n",
    "import tensorflow as tf\n",
    "import matplotlib.pyplot as plt\n",
    "from tensorflow.contrib import rnn\n",
    "from sklearn import datasets\n",
    "from sklearn.model_selection import train_test_split\n",
    "from sklearn.utils import shuffle"
   ]
  },
  {
   "cell_type": "code",
   "execution_count": 2,
   "metadata": {
    "collapsed": true
   },
   "outputs": [],
   "source": [
    "def inference(x, n_in=None, n_time=None, n_hidden=None, n_out=None):\n",
    "    def weight_variable(shape):\n",
    "        initial = tf.truncated_normal(shape, stddev=0.01)\n",
    "        return tf.Variable(initial)\n",
    "    \n",
    "    def bias_variable(shape):\n",
    "        initial = tf.zeros(shape, dtype=tf.float32)\n",
    "        return tf.Variable(initial)\n",
    "    \n",
    "    x = tf.transpose(x, [1, 0, 2])\n",
    "    x = tf.reshape(x, [-1, n_in])\n",
    "    x = tf.split(x, n_time, 0)\n",
    "    \n",
    "    cell_forward = rnn.BasicLSTMCell(n_hidden, forget_bias=1.0)\n",
    "    cell_backward = rnn.BasicLSTMCell(n_hidden, forget_bias=1.0)\n",
    "    \n",
    "    outputs, _, _ = rnn.static_bidirectional_rnn(cell_forward, cell_backward, \n",
    "                                                x, dtype=tf.float32)\n",
    "    \n",
    "    W = weight_variable([n_hidden * 2, n_out])\n",
    "    b = bias_variable([n_out])\n",
    "    y = tf.nn.softmax(tf.matmul(outputs[-1], W) + b)\n",
    "    \n",
    "    return y"
   ]
  },
  {
   "cell_type": "code",
   "execution_count": 3,
   "metadata": {
    "collapsed": true
   },
   "outputs": [],
   "source": [
    "def loss(y, t):\n",
    "    cross_entropy = tf.reduce_mean(-tf.reduce_sum(t * tf.log(\n",
    "        tf.clip_by_value(y, 1e-10, 1.0)), reduction_indices=[1]))\n",
    "    return cross_entropy"
   ]
  },
  {
   "cell_type": "code",
   "execution_count": 4,
   "metadata": {
    "collapsed": true
   },
   "outputs": [],
   "source": [
    "def training(loss):\n",
    "    optimizer = tf.train.AdamOptimizer(learning_rate=0.001, beta1=0.9, beta2=0.999)\n",
    "    train_step = optimizer.minimize(loss)\n",
    "    return train_step"
   ]
  },
  {
   "cell_type": "code",
   "execution_count": 5,
   "metadata": {
    "collapsed": true
   },
   "outputs": [],
   "source": [
    "def accuracy(y, t):\n",
    "    correct_prediction = tf.equal(tf.argmax(y, 1), tf.argmax(t, 1))\n",
    "    accuracy = tf.reduce_mean(tf.cast(correct_prediction, tf.float32))\n",
    "    return accuracy"
   ]
  },
  {
   "cell_type": "code",
   "execution_count": 6,
   "metadata": {
    "collapsed": true
   },
   "outputs": [],
   "source": [
    "class EarlyStopping():\n",
    "    def __init__(self, patience=0, verbose=0):\n",
    "        self._step = 0\n",
    "        self._loss = float('inf')\n",
    "        self.patience = patience\n",
    "        self.verbose = verbose\n",
    "        \n",
    "    def validate(self, loss):\n",
    "        if self._loss < loss:\n",
    "            self._step += 1\n",
    "            if self._step > self.patience:\n",
    "                if self.verbose:\n",
    "                    print('early stopping')\n",
    "                return True\n",
    "        else:\n",
    "            self._step = 0\n",
    "            self._loss = loss\n",
    "        return False"
   ]
  },
  {
   "cell_type": "code",
   "execution_count": 7,
   "metadata": {},
   "outputs": [],
   "source": [
    "mnist = datasets.fetch_mldata('MNIST original', data_home='.')"
   ]
  },
  {
   "cell_type": "code",
   "execution_count": 8,
   "metadata": {
    "collapsed": true
   },
   "outputs": [],
   "source": [
    "n = len(mnist.data)\n",
    "N = 30000\n",
    "N_train = 20000\n",
    "N_validation = 4000\n",
    "indices = np.random.permutation(range(n))[:N]"
   ]
  },
  {
   "cell_type": "code",
   "execution_count": 9,
   "metadata": {
    "collapsed": true
   },
   "outputs": [],
   "source": [
    "X = mnist.data[indices]\n",
    "X = X / 255.0\n",
    "X = X - X.mean(axis=1).reshape(len(X), 1)\n",
    "X = X.reshape(len(X), 28, 28)\n",
    "y = mnist.target[indices]\n",
    "Y = np.eye(10)[y.astype(int)]"
   ]
  },
  {
   "cell_type": "code",
   "execution_count": 10,
   "metadata": {},
   "outputs": [
    {
     "name": "stderr",
     "output_type": "stream",
     "text": [
      "/home/shimazu/.pyenv/versions/anaconda3-5.0.1/lib/python3.6/site-packages/sklearn/model_selection/_split.py:2026: FutureWarning: From version 0.21, test_size will always complement train_size unless both are specified.\n",
      "  FutureWarning)\n"
     ]
    }
   ],
   "source": [
    "X_train, X_test, Y_train, Y_test = train_test_split(X, Y, train_size=N_train)\n",
    "X_train, X_validation, Y_train, Y_validation = train_test_split(X_train, Y_train, test_size=N_validation)"
   ]
  },
  {
   "cell_type": "markdown",
   "metadata": {},
   "source": [
    "# Tensorflowによる実装"
   ]
  },
  {
   "cell_type": "code",
   "execution_count": 11,
   "metadata": {},
   "outputs": [],
   "source": [
    "n_in = 28\n",
    "n_time = 28\n",
    "n_hidden = 128\n",
    "n_out = 10\n",
    "\n",
    "x = tf.placeholder(tf.float32, shape=[None, n_time, n_in])\n",
    "t = tf.placeholder(tf.float32, shape=[None, n_out])\n",
    "\n",
    "y = inference(x, n_in=n_in, n_time=n_time, n_hidden=n_hidden, n_out=n_out)\n",
    "loss = loss(y, t)\n",
    "train_step = training(loss)\n",
    "accuracy = accuracy(y, t)\n",
    "\n",
    "early_stopping = EarlyStopping(patience=10, verbose=1)\n",
    "history = {\n",
    "    'val_loss': [],\n",
    "    'val_acc': []\n",
    "}"
   ]
  },
  {
   "cell_type": "code",
   "execution_count": 12,
   "metadata": {
    "collapsed": true
   },
   "outputs": [],
   "source": [
    "epochs = 300\n",
    "batch_size = 250\n",
    "\n",
    "init = tf.global_variables_initializer()\n",
    "sess = tf.Session()\n",
    "sess.run(init)\n",
    "\n",
    "n_batches = N_train // batch_size"
   ]
  },
  {
   "cell_type": "code",
   "execution_count": 13,
   "metadata": {},
   "outputs": [
    {
     "name": "stdout",
     "output_type": "stream",
     "text": [
      "epoch: 0  validation loss: 1.61152  validation accuracy: 0.4635\n",
      "epoch: 1  validation loss: 0.694745  validation accuracy: 0.77425\n",
      "epoch: 2  validation loss: 1.1351  validation accuracy: 0.63\n",
      "epoch: 3  validation loss: 0.599953  validation accuracy: 0.79425\n",
      "epoch: 4  validation loss: 0.631781  validation accuracy: 0.80025\n",
      "epoch: 5  validation loss: 0.537025  validation accuracy: 0.84075\n",
      "epoch: 6  validation loss: 0.284544  validation accuracy: 0.9115\n",
      "epoch: 7  validation loss: 0.449038  validation accuracy: 0.85775\n",
      "epoch: 8  validation loss: 0.235347  validation accuracy: 0.925\n",
      "epoch: 9  validation loss: 0.195069  validation accuracy: 0.9405\n",
      "epoch: 10  validation loss: 0.341819  validation accuracy: 0.902\n",
      "epoch: 11  validation loss: 0.289619  validation accuracy: 0.91575\n",
      "epoch: 12  validation loss: 0.214407  validation accuracy: 0.9385\n",
      "epoch: 13  validation loss: 0.236006  validation accuracy: 0.931\n",
      "epoch: 14  validation loss: 0.227376  validation accuracy: 0.93225\n",
      "epoch: 15  validation loss: 0.164991  validation accuracy: 0.95675\n",
      "epoch: 16  validation loss: 0.442427  validation accuracy: 0.86525\n",
      "epoch: 17  validation loss: 0.231641  validation accuracy: 0.93525\n",
      "epoch: 18  validation loss: 0.147952  validation accuracy: 0.95975\n",
      "epoch: 19  validation loss: 0.168858  validation accuracy: 0.95525\n",
      "epoch: 20  validation loss: 0.246568  validation accuracy: 0.9325\n",
      "epoch: 21  validation loss: 0.163826  validation accuracy: 0.95275\n",
      "epoch: 22  validation loss: 0.212957  validation accuracy: 0.944\n",
      "epoch: 23  validation loss: 0.144247  validation accuracy: 0.96275\n",
      "epoch: 24  validation loss: 0.194144  validation accuracy: 0.951\n",
      "epoch: 25  validation loss: 0.15091  validation accuracy: 0.96075\n",
      "epoch: 26  validation loss: 0.17428  validation accuracy: 0.95525\n",
      "epoch: 27  validation loss: 0.146166  validation accuracy: 0.96475\n",
      "epoch: 28  validation loss: 0.195581  validation accuracy: 0.952\n",
      "epoch: 29  validation loss: 0.172488  validation accuracy: 0.957\n",
      "epoch: 30  validation loss: 0.152634  validation accuracy: 0.963\n",
      "epoch: 31  validation loss: 0.140751  validation accuracy: 0.966\n",
      "epoch: 32  validation loss: 0.134012  validation accuracy: 0.96825\n",
      "epoch: 33  validation loss: 0.165788  validation accuracy: 0.963\n",
      "epoch: 34  validation loss: 0.168171  validation accuracy: 0.96225\n",
      "epoch: 35  validation loss: 0.250643  validation accuracy: 0.939\n",
      "epoch: 36  validation loss: 0.281858  validation accuracy: 0.92925\n",
      "epoch: 37  validation loss: 0.172664  validation accuracy: 0.95675\n",
      "epoch: 38  validation loss: 0.143736  validation accuracy: 0.9655\n",
      "epoch: 39  validation loss: 0.143604  validation accuracy: 0.9645\n",
      "epoch: 40  validation loss: 0.149743  validation accuracy: 0.9655\n",
      "epoch: 41  validation loss: 0.17871  validation accuracy: 0.957\n",
      "epoch: 42  validation loss: 0.140286  validation accuracy: 0.967\n",
      "epoch: 43  validation loss: 0.150407  validation accuracy: 0.96675\n",
      "ear;y stopping\n"
     ]
    }
   ],
   "source": [
    "for epoch in range(epochs):\n",
    "    X_, Y_ = shuffle(X_train, Y_train)\n",
    "    \n",
    "    for i in range(n_batches):\n",
    "        start = i * batch_size\n",
    "        end = start + batch_size\n",
    "        \n",
    "        sess.run(train_step, feed_dict={\n",
    "            x: X_[start:end],\n",
    "            t: Y_[start:end]\n",
    "        })\n",
    "        \n",
    "    val_loss = loss.eval(session=sess, feed_dict={\n",
    "        x: X_validation,\n",
    "        t: Y_validation\n",
    "    })\n",
    "    val_acc = accuracy.eval(session=sess, feed_dict={\n",
    "        x: X_validation,\n",
    "        t: Y_validation\n",
    "    })\n",
    "    \n",
    "    history['val_loss'].append(val_loss)\n",
    "    history['val_acc'].append(val_acc)\n",
    "    \n",
    "    print('epoch:', epoch,\n",
    "         ' validation loss:', val_loss,\n",
    "         ' validation accuracy:', val_acc)\n",
    "    \n",
    "    if early_stopping.validate(val_loss):\n",
    "        break"
   ]
  },
  {
   "cell_type": "code",
   "execution_count": 15,
   "metadata": {},
   "outputs": [
    {
     "data": {
      "image/png": "[encoded data removed]",
      "text/plain": [
       "<matplotlib.figure.Figure at 0x7fcbbd12da58>"
      ]
     },
     "metadata": {},
     "output_type": "display_data"
    },
    {
     "name": "stdout",
     "output_type": "stream",
     "text": [
      "accuracy:  0.9707\n"
     ]
    }
   ],
   "source": [
    "loss = history['val_loss']\n",
    "\n",
    "plt.rc('font', family='serif')\n",
    "fig = plt.figure()\n",
    "plt.plot(range(len(loss)), loss,\n",
    "             label='loss', color='black')\n",
    "plt.xlabel('epochs')\n",
    "plt.show()\n",
    "\n",
    "accuracy_rate = accuracy.eval(session=sess, feed_dict={\n",
    "        x: X_test,\n",
    "        t: Y_test\n",
    "    })\n",
    "print('accuracy: ', accuracy_rate)"
   ]
  },
  {
   "cell_type": "markdown",
   "metadata": {},
   "source": [
    "# Kerasによる実装"
   ]
  },
  {
   "cell_type": "code",
   "execution_count": 17,
   "metadata": {},
   "outputs": [
    {
     "name": "stderr",
     "output_type": "stream",
     "text": [
      "Using TensorFlow backend.\n"
     ]
    }
   ],
   "source": [
    "from keras.models import Sequential\n",
    "from keras.layers.core import Dense, Activation\n",
    "from keras.layers.recurrent import LSTM\n",
    "from keras.layers.wrappers import Bidirectional\n",
    "from keras.optimizers import Adam\n",
    "from keras.callbacks import EarlyStopping"
   ]
  },
  {
   "cell_type": "code",
   "execution_count": 22,
   "metadata": {
    "collapsed": true
   },
   "outputs": [],
   "source": [
    "def weight_variable(shape, name=None):\n",
    "    return np.random.normal(scale=.01, size=shape)"
   ]
  },
  {
   "cell_type": "code",
   "execution_count": 24,
   "metadata": {},
   "outputs": [
    {
     "name": "stderr",
     "output_type": "stream",
     "text": [
      "/home/shimazu/.pyenv/versions/anaconda3-5.0.1/lib/python3.6/site-packages/ipykernel_launcher.py:4: UserWarning: Update your `Dense` call to the Keras 2 API: `Dense(10, kernel_initializer=<function ...)`\n",
      "  after removing the cwd from sys.path.\n"
     ]
    }
   ],
   "source": [
    "model = Sequential()\n",
    "model.add(Bidirectional(LSTM(n_hidden),\n",
    "                       input_shape=(n_time, n_in)))\n",
    "model.add(Dense(n_out, init=weight_variable))\n",
    "model.add(Activation('softmax'))\n",
    "\n",
    "model.compile(loss='categorical_crossentropy',\n",
    "             optimizer=Adam(lr=0.001, beta_1=0.9, beta_2=0.999),\n",
    "             metrics=['accuracy'])"
   ]
  },
  {
   "cell_type": "code",
   "execution_count": 26,
   "metadata": {},
   "outputs": [
    {
     "name": "stdout",
     "output_type": "stream",
     "text": [
      "Train on 16000 samples, validate on 4000 samples\n",
      "Epoch 1/300\n",
      "16000/16000 [==============================] - 17s 1ms/step - loss: 1.5616 - acc: 0.4893 - val_loss: 0.8278 - val_acc: 0.7107\n",
      "Epoch 2/300\n",
      "16000/16000 [==============================] - 16s 1ms/step - loss: 0.5763 - acc: 0.8116 - val_loss: 0.4100 - val_acc: 0.8685\n",
      "Epoch 3/300\n",
      "16000/16000 [==============================] - 16s 984us/step - loss: 0.3296 - acc: 0.8989 - val_loss: 0.2834 - val_acc: 0.9135\n",
      "Epoch 4/300\n",
      "16000/16000 [==============================] - 16s 989us/step - loss: 0.2336 - acc: 0.9299 - val_loss: 0.2312 - val_acc: 0.9260\n",
      "Epoch 5/300\n",
      "16000/16000 [==============================] - 16s 979us/step - loss: 0.1857 - acc: 0.9431 - val_loss: 0.1981 - val_acc: 0.9385\n",
      "Epoch 6/300\n",
      "16000/16000 [==============================] - 15s 968us/step - loss: 0.1374 - acc: 0.9605 - val_loss: 0.1675 - val_acc: 0.9500\n",
      "Epoch 7/300\n",
      "16000/16000 [==============================] - 16s 990us/step - loss: 0.1228 - acc: 0.9634 - val_loss: 0.1669 - val_acc: 0.9480\n",
      "Epoch 8/300\n",
      "16000/16000 [==============================] - 16s 978us/step - loss: 0.1074 - acc: 0.9679 - val_loss: 0.1523 - val_acc: 0.9560\n",
      "Epoch 9/300\n",
      "16000/16000 [==============================] - 16s 1ms/step - loss: 0.0890 - acc: 0.9749 - val_loss: 0.1356 - val_acc: 0.9600\n",
      "Epoch 10/300\n",
      "16000/16000 [==============================] - 16s 974us/step - loss: 0.0897 - acc: 0.9721 - val_loss: 0.1237 - val_acc: 0.9647\n",
      "Epoch 11/300\n",
      "16000/16000 [==============================] - 16s 975us/step - loss: 0.0784 - acc: 0.9757 - val_loss: 0.1397 - val_acc: 0.9610\n",
      "Epoch 12/300\n",
      "16000/16000 [==============================] - 16s 990us/step - loss: 0.0755 - acc: 0.9781 - val_loss: 0.1287 - val_acc: 0.9597\n",
      "Epoch 13/300\n",
      "16000/16000 [==============================] - 15s 958us/step - loss: 0.0593 - acc: 0.9816 - val_loss: 0.1199 - val_acc: 0.9662\n",
      "Epoch 14/300\n",
      "16000/16000 [==============================] - 16s 979us/step - loss: 0.0545 - acc: 0.9835 - val_loss: 0.1222 - val_acc: 0.9642\n",
      "Epoch 15/300\n",
      "16000/16000 [==============================] - 16s 993us/step - loss: 0.0485 - acc: 0.9856 - val_loss: 0.1077 - val_acc: 0.9695\n",
      "Epoch 16/300\n",
      "16000/16000 [==============================] - 16s 975us/step - loss: 0.0456 - acc: 0.9859 - val_loss: 0.1207 - val_acc: 0.9635\n",
      "Epoch 17/300\n",
      "16000/16000 [==============================] - 16s 1ms/step - loss: 0.0516 - acc: 0.9836 - val_loss: 0.1300 - val_acc: 0.9653\n",
      "Epoch 18/300\n",
      "16000/16000 [==============================] - 16s 1000us/step - loss: 0.0439 - acc: 0.9872 - val_loss: 0.1001 - val_acc: 0.9702\n",
      "Epoch 19/300\n",
      "16000/16000 [==============================] - 16s 985us/step - loss: 0.0305 - acc: 0.9917 - val_loss: 0.1166 - val_acc: 0.9675\n",
      "Epoch 20/300\n",
      "16000/16000 [==============================] - 16s 997us/step - loss: 0.0305 - acc: 0.9909 - val_loss: 0.1033 - val_acc: 0.9703\n",
      "Epoch 21/300\n",
      "16000/16000 [==============================] - 16s 978us/step - loss: 0.0263 - acc: 0.9924 - val_loss: 0.0946 - val_acc: 0.9715\n",
      "Epoch 22/300\n",
      "16000/16000 [==============================] - 16s 986us/step - loss: 0.0227 - acc: 0.9932 - val_loss: 0.1003 - val_acc: 0.9733\n",
      "Epoch 23/300\n",
      "16000/16000 [==============================] - 16s 976us/step - loss: 0.0192 - acc: 0.9951 - val_loss: 0.1033 - val_acc: 0.9713\n",
      "Epoch 24/300\n",
      "16000/16000 [==============================] - 16s 982us/step - loss: 0.0267 - acc: 0.9921 - val_loss: 0.1193 - val_acc: 0.9667\n",
      "Epoch 25/300\n",
      "16000/16000 [==============================] - 16s 970us/step - loss: 0.0240 - acc: 0.9935 - val_loss: 0.1122 - val_acc: 0.9688\n",
      "Epoch 26/300\n",
      "16000/16000 [==============================] - 16s 998us/step - loss: 0.0278 - acc: 0.9911 - val_loss: 0.1235 - val_acc: 0.9667\n",
      "Epoch 27/300\n",
      "16000/16000 [==============================] - 16s 978us/step - loss: 0.0239 - acc: 0.9936 - val_loss: 0.1060 - val_acc: 0.9713\n",
      "Epoch 28/300\n",
      "16000/16000 [==============================] - 16s 983us/step - loss: 0.0164 - acc: 0.9958 - val_loss: 0.1060 - val_acc: 0.9725\n",
      "Epoch 29/300\n",
      "16000/16000 [==============================] - 16s 982us/step - loss: 0.0111 - acc: 0.9972 - val_loss: 0.0992 - val_acc: 0.9730\n",
      "Epoch 30/300\n",
      "16000/16000 [==============================] - 16s 978us/step - loss: 0.0086 - acc: 0.9978 - val_loss: 0.0971 - val_acc: 0.9748\n",
      "Epoch 31/300\n",
      "16000/16000 [==============================] - 16s 994us/step - loss: 0.0074 - acc: 0.9987 - val_loss: 0.1088 - val_acc: 0.9713\n",
      "Epoch 00031: early stopping\n"
     ]
    }
   ],
   "source": [
    "epochs = 300\n",
    "batch_size = 250\n",
    "early_stopping = EarlyStopping(monitor='val_loss', patience=10, verbose=1)\n",
    "\n",
    "hist = model.fit(X_train, Y_train,\n",
    "                 batch_size=batch_size,\n",
    "                 epochs=epochs,\n",
    "                 validation_data=(X_validation, Y_validation),\n",
    "                 callbacks=[early_stopping])"
   ]
  },
  {
   "cell_type": "code",
   "execution_count": 27,
   "metadata": {},
   "outputs": [
    {
     "data": {
      "image/png": "[encoded data removed]",
      "text/plain": [
       "<matplotlib.figure.Figure at 0x7fcb945abbe0>"
      ]
     },
     "metadata": {},
     "output_type": "display_data"
    }
   ],
   "source": [
    "acc = hist.history['val_acc']\n",
    "loss = hist.history['val_loss']\n",
    "\n",
    "plt.rc('font', family='serif')\n",
    "fig = plt.figure()\n",
    "plt.plot(range(len(loss)), loss,\n",
    "         label='loss', color='black')\n",
    "plt.xlabel('epochs')\n",
    "plt.show()"
   ]
  },
  {
   "cell_type": "code",
   "execution_count": 28,
   "metadata": {},
   "outputs": [
    {
     "name": "stdout",
     "output_type": "stream",
     "text": [
      "10000/10000 [==============================] - 4s 438us/step\n",
      "[0.097100769972242415, 0.97360000000000002]\n"
     ]
    }
   ],
   "source": [
    "loss_and_metrics = model.evaluate(X_test, Y_test)\n",
    "print(loss_and_metrics)"
   ]
  },
  {
   "cell_type": "code",
   "execution_count": null,
   "metadata": {
    "collapsed": true
   },
   "outputs": [],
   "source": []
  }
 ],
 "metadata": {
  "kernelspec": {
   "display_name": "Python 3",
   "language": "python",
   "name": "python3"
  },
  "language_info": {
   "codemirror_mode": {
    "name": "ipython",
    "version": 3
   },
   "file_extension": ".py",
   "mimetype": "text/x-python",
   "name": "python",
   "nbconvert_exporter": "python",
   "pygments_lexer": "ipython3",
   "version": "3.6.3"
  }
 },
 "nbformat": 4,
 "nbformat_minor": 2
}
