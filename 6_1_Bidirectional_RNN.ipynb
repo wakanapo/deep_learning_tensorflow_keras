{
 "cells": [
  {
   "cell_type": "code",
   "execution_count": 1,
   "metadata": {
    "collapsed": true
   },
   "outputs": [],
   "source": [
    "import warnings\n",
    "warnings.filterwarnings('ignore')\n",
    "import numpy as np\n",
    "import tensorflow as tf\n",
    "import matplotlib.pyplot as plt\n",
    "from tensorflow.contrib import rnn\n",
    "from sklearn import datasets\n",
    "from sklearn.model_selection import train_test_split\n",
    "from sklearn.utils import shuffle"
   ]
  },
  {
   "cell_type": "code",
   "execution_count": 2,
   "metadata": {
    "collapsed": true
   },
   "outputs": [],
   "source": [
    "def inference(x, n_in=None, n_time=None, n_hidden=None, n_out=None):\n",
    "    def weight_variable(shape):\n",
    "        initial = tf.truncated_normal(shape, stddev=0.01)\n",
    "        return tf.Variable(initial)\n",
    "    \n",
    "    def bias_variable(shape):\n",
    "        initial = tf.zeros(shape, dtype=tf.float32)\n",
    "        return tf.Variable(initial)\n",
    "    \n",
    "    x = tf.transpose(x, [1, 0, 2])\n",
    "    x = tf.reshape(x, [-1, n_in])\n",
    "    x = tf.split(x, n_time, 0)\n",
    "    \n",
    "    cell_forward = rnn.BasicLSTMCell(n_hidden, forget_bias=1.0)\n",
    "    cell_backward = rnn.BasicLSTMCell(n_hidden, forget_bias=1.0)\n",
    "    \n",
    "    outputs, _, _ = rnn.static_bidirectional_rnn(cell_forward, cell_backward, \n",
    "                                                x, dtype=tf.float32)\n",
    "    \n",
    "    W = weight_variable([n_hidden * 2, n_out])\n",
    "    b = bias_variable([n_out])\n",
    "    y = tf.nn.softmax(tf.matmul(outputs[-1], W) + b)\n",
    "    \n",
    "    return y"
   ]
  },
  {
   "cell_type": "code",
   "execution_count": 3,
   "metadata": {
    "collapsed": true
   },
   "outputs": [],
   "source": [
    "def loss(y, t):\n",
    "    cross_entropy = tf.reduce_mean(-tf.reduce_sum(t * tf.log(\n",
    "        tf.clip_by_value(y, 1e-10, 1.0)), reduction_indices=[1]))\n",
    "    return cross_entropy"
   ]
  },
  {
   "cell_type": "code",
   "execution_count": 4,
   "metadata": {
    "collapsed": true
   },
   "outputs": [],
   "source": [
    "def training(loss):\n",
    "    optimizer = tf.train.AdamOptimizer(learning_rate=0.001, beta1=0.9, beta2=0.999)\n",
    "    train_step = optimizer.minimize(loss)\n",
    "    return train_step"
   ]
  },
  {
   "cell_type": "code",
   "execution_count": 5,
   "metadata": {
    "collapsed": true
   },
   "outputs": [],
   "source": [
    "def accuracy(y, t):\n",
    "    correct_prediction = tf.equal(tf.argmax(y, 1), tf.argmax(t, 1))\n",
    "    accuracy = tf.reduce_mean(tf.cast(correct_prediction, tf.float32))\n",
    "    return accuracy"
   ]
  },
  {
   "cell_type": "code",
   "execution_count": 6,
   "metadata": {
    "collapsed": true
   },
   "outputs": [],
   "source": [
    "class EarlyStopping():\n",
    "    def __init__(self, patience=0, verbose=0):\n",
    "        self._step = 0\n",
    "        self._loss = float('inf')\n",
    "        self.patience = patience\n",
    "        self.verbose = verbose\n",
    "        \n",
    "    def validate(self, loss):\n",
    "        if self._loss < loss:\n",
    "            self._step += 1\n",
    "            if self._step > self.patience:\n",
    "                if self.verbose:\n",
    "                    print('early stopping')\n",
    "                return True\n",
    "        else:\n",
    "            self._step = 0\n",
    "            self._loss = loss\n",
    "        return False"
   ]
  },
  {
   "cell_type": "code",
   "execution_count": 7,
   "metadata": {
    "collapsed": true
   },
   "outputs": [],
   "source": [
    "mnist = datasets.fetch_mldata('MNIST original', data_home='.')"
   ]
  },
  {
   "cell_type": "code",
   "execution_count": 8,
   "metadata": {
    "collapsed": true
   },
   "outputs": [],
   "source": [
    "n = len(mnist.data)\n",
    "N = 30000\n",
    "N_train = 20000\n",
    "N_validation = 4000\n",
    "indices = np.random.permutation(range(n))[:N]"
   ]
  },
  {
   "cell_type": "code",
   "execution_count": 9,
   "metadata": {
    "collapsed": true
   },
   "outputs": [],
   "source": [
    "X = mnist.data[indices]\n",
    "X = X / 255.0\n",
    "X = X - X.mean(axis=1).reshape(len(X), 1)\n",
    "X = X.reshape(len(X), 28, 28)\n",
    "y = mnist.target[indices]\n",
    "Y = np.eye(10)[y.astype(int)]"
   ]
  },
  {
   "cell_type": "code",
   "execution_count": 10,
   "metadata": {
    "collapsed": true
   },
   "outputs": [],
   "source": [
    "X_train, X_test, Y_train, Y_test = train_test_split(X, Y, train_size=N_train)\n",
    "X_train, X_validation, Y_train, Y_validation = train_test_split(X_train, Y_train, test_size=N_validation)"
   ]
  },
  {
   "cell_type": "markdown",
   "metadata": {},
   "source": [
    "# Tensorflowによる実装"
   ]
  },
  {
   "cell_type": "code",
   "execution_count": 11,
   "metadata": {
    "collapsed": true
   },
   "outputs": [],
   "source": [
    "n_in = 28\n",
    "n_time = 28\n",
    "n_hidden = 128\n",
    "n_out = 10\n",
    "\n",
    "x = tf.placeholder(tf.float32, shape=[None, n_time, n_in])\n",
    "t = tf.placeholder(tf.float32, shape=[None, n_out])\n",
    "\n",
    "y = inference(x, n_in=n_in, n_time=n_time, n_hidden=n_hidden, n_out=n_out)\n",
    "loss = loss(y, t)\n",
    "train_step = training(loss)\n",
    "accuracy = accuracy(y, t)\n",
    "\n",
    "early_stopping = EarlyStopping(patience=10, verbose=1)\n",
    "history = {\n",
    "    'val_loss': [],\n",
    "    'val_acc': []\n",
    "}"
   ]
  },
  {
   "cell_type": "code",
   "execution_count": 12,
   "metadata": {
    "collapsed": true
   },
   "outputs": [],
   "source": [
    "epochs = 30\n",
    "batch_size = 250\n",
    "\n",
    "init = tf.global_variables_initializer()\n",
    "sess = tf.Session()\n",
    "sess.run(init)\n",
    "\n",
    "n_batches = N_train // batch_size"
   ]
  },
  {
   "cell_type": "code",
   "execution_count": 13,
   "metadata": {},
   "outputs": [
    {
     "name": "stdout",
     "output_type": "stream",
     "text": [
      "epoch: 0  validation loss: 1.60626  validation accuracy: 0.41825\n",
      "epoch: 1  validation loss: 1.2503  validation accuracy: 0.60425\n",
      "epoch: 2  validation loss: 0.749565  validation accuracy: 0.76025\n",
      "epoch: 3  validation loss: 1.03549  validation accuracy: 0.681\n",
      "epoch: 4  validation loss: 0.823993  validation accuracy: 0.74525\n",
      "epoch: 5  validation loss: 0.295799  validation accuracy: 0.9085\n",
      "epoch: 6  validation loss: 0.482697  validation accuracy: 0.8535\n",
      "epoch: 7  validation loss: 0.316508  validation accuracy: 0.897\n",
      "epoch: 8  validation loss: 0.233702  validation accuracy: 0.92975\n",
      "epoch: 9  validation loss: 0.228454  validation accuracy: 0.93\n",
      "epoch: 10  validation loss: 0.460603  validation accuracy: 0.8575\n",
      "epoch: 11  validation loss: 0.236781  validation accuracy: 0.92875\n",
      "epoch: 12  validation loss: 0.293696  validation accuracy: 0.90925\n",
      "epoch: 13  validation loss: 0.503939  validation accuracy: 0.849\n",
      "epoch: 14  validation loss: 0.188899  validation accuracy: 0.94475\n",
      "epoch: 15  validation loss: 0.142953  validation accuracy: 0.95925\n",
      "epoch: 16  validation loss: 0.138903  validation accuracy: 0.96075\n",
      "epoch: 17  validation loss: 0.166352  validation accuracy: 0.954\n",
      "epoch: 18  validation loss: 0.217261  validation accuracy: 0.93075\n",
      "epoch: 19  validation loss: 0.178896  validation accuracy: 0.951\n",
      "epoch: 20  validation loss: 0.137543  validation accuracy: 0.95825\n",
      "epoch: 21  validation loss: 0.145258  validation accuracy: 0.95875\n",
      "epoch: 22  validation loss: 0.14472  validation accuracy: 0.9595\n",
      "epoch: 23  validation loss: 0.166528  validation accuracy: 0.954\n",
      "epoch: 24  validation loss: 0.158058  validation accuracy: 0.958\n",
      "epoch: 25  validation loss: 0.198037  validation accuracy: 0.94375\n",
      "epoch: 26  validation loss: 0.20149  validation accuracy: 0.94625\n",
      "epoch: 27  validation loss: 0.144606  validation accuracy: 0.96525\n",
      "epoch: 28  validation loss: 0.191935  validation accuracy: 0.946\n",
      "epoch: 29  validation loss: 0.418159  validation accuracy: 0.88575\n"
     ]
    }
   ],
   "source": [
    "for epoch in range(epochs):\n",
    "    X_, Y_ = shuffle(X_train, Y_train)\n",
    "    \n",
    "    for i in range(n_batches):\n",
    "        start = i * batch_size\n",
    "        end = start + batch_size\n",
    "        \n",
    "        sess.run(train_step, feed_dict={\n",
    "            x: X_[start:end],\n",
    "            t: Y_[start:end]\n",
    "        })\n",
    "        \n",
    "    val_loss = loss.eval(session=sess, feed_dict={\n",
    "        x: X_validation,\n",
    "        t: Y_validation\n",
    "    })\n",
    "    val_acc = accuracy.eval(session=sess, feed_dict={\n",
    "        x: X_validation,\n",
    "        t: Y_validation\n",
    "    })\n",
    "    \n",
    "    history['val_loss'].append(val_loss)\n",
    "    history['val_acc'].append(val_acc)\n",
    "    \n",
    "    print('epoch:', epoch,\n",
    "         ' validation loss:', val_loss,\n",
    "         ' validation accuracy:', val_acc)\n",
    "    \n",
    "    if early_stopping.validate(val_loss):\n",
    "        break"
   ]
  },
  {
   "cell_type": "code",
   "execution_count": 14,
   "metadata": {},
   "outputs": [
    {
     "data": {
      "image/png": "[encoded data removed]",
      "text/plain": [
       "<matplotlib.figure.Figure at 0x7fda838a4198>"
      ]
     },
     "metadata": {},
     "output_type": "display_data"
    },
    {
     "name": "stdout",
     "output_type": "stream",
     "text": [
      "accuracy:  0.8895\n"
     ]
    }
   ],
   "source": [
    "loss = history['val_loss']\n",
    "\n",
    "plt.rc('font', family='serif')\n",
    "fig = plt.figure()\n",
    "plt.plot(range(len(loss)), loss,\n",
    "             label='loss', color='black')\n",
    "plt.xlabel('epochs')\n",
    "plt.show()\n",
    "\n",
    "accuracy_rate = accuracy.eval(session=sess, feed_dict={\n",
    "        x: X_test,\n",
    "        t: Y_test\n",
    "    })\n",
    "print('accuracy: ', accuracy_rate)"
   ]
  },
  {
   "cell_type": "markdown",
   "metadata": {},
   "source": [
    "# Kerasによる実装"
   ]
  },
  {
   "cell_type": "code",
   "execution_count": 15,
   "metadata": {},
   "outputs": [
    {
     "name": "stderr",
     "output_type": "stream",
     "text": [
      "Using TensorFlow backend.\n"
     ]
    }
   ],
   "source": [
    "from keras.models import Sequential\n",
    "from keras.layers.core import Dense, Activation\n",
    "from keras.layers.recurrent import LSTM\n",
    "from keras.layers.wrappers import Bidirectional\n",
    "from keras.optimizers import Adam\n",
    "from keras.callbacks import EarlyStopping"
   ]
  },
  {
   "cell_type": "code",
   "execution_count": 16,
   "metadata": {
    "collapsed": true
   },
   "outputs": [],
   "source": [
    "def weight_variable(shape, name=None):\n",
    "    return np.random.normal(scale=.01, size=shape)"
   ]
  },
  {
   "cell_type": "code",
   "execution_count": 17,
   "metadata": {
    "collapsed": true
   },
   "outputs": [],
   "source": [
    "model = Sequential()\n",
    "model.add(Bidirectional(LSTM(n_hidden),\n",
    "                       input_shape=(n_time, n_in)))\n",
    "model.add(Dense(n_out, init=weight_variable))\n",
    "model.add(Activation('softmax'))\n",
    "\n",
    "model.compile(loss='categorical_crossentropy',\n",
    "             optimizer=Adam(lr=0.001, beta_1=0.9, beta_2=0.999),\n",
    "             metrics=['accuracy'])"
   ]
  },
  {
   "cell_type": "code",
   "execution_count": 18,
   "metadata": {},
   "outputs": [
    {
     "name": "stdout",
     "output_type": "stream",
     "text": [
      "Train on 16000 samples, validate on 4000 samples\n",
      "Epoch 1/30\n",
      "16000/16000 [==============================] - 12s 728us/step - loss: 1.5974 - acc: 0.4492 - val_loss: 0.8789 - val_acc: 0.6910\n",
      "Epoch 2/30\n",
      "16000/16000 [==============================] - 11s 702us/step - loss: 0.6351 - acc: 0.7889 - val_loss: 0.4578 - val_acc: 0.8685\n",
      "Epoch 3/30\n",
      "16000/16000 [==============================] - 11s 685us/step - loss: 0.3601 - acc: 0.8903 - val_loss: 0.3004 - val_acc: 0.9123\n",
      "Epoch 4/30\n",
      "16000/16000 [==============================] - 11s 704us/step - loss: 0.2338 - acc: 0.9285 - val_loss: 0.2479 - val_acc: 0.9255\n",
      "Epoch 5/30\n",
      "16000/16000 [==============================] - 11s 684us/step - loss: 0.1898 - acc: 0.9430 - val_loss: 0.1963 - val_acc: 0.9415\n",
      "Epoch 6/30\n",
      "16000/16000 [==============================] - 11s 687us/step - loss: 0.1560 - acc: 0.9542 - val_loss: 0.1698 - val_acc: 0.9500\n",
      "Epoch 7/30\n",
      "16000/16000 [==============================] - 11s 689us/step - loss: 0.1217 - acc: 0.9635 - val_loss: 0.1491 - val_acc: 0.9545\n",
      "Epoch 8/30\n",
      "16000/16000 [==============================] - 11s 680us/step - loss: 0.1067 - acc: 0.9681 - val_loss: 0.1459 - val_acc: 0.9545\n",
      "Epoch 9/30\n",
      "16000/16000 [==============================] - 11s 692us/step - loss: 0.1020 - acc: 0.9666 - val_loss: 0.1370 - val_acc: 0.9582\n",
      "Epoch 10/30\n",
      "16000/16000 [==============================] - 11s 691us/step - loss: 0.0924 - acc: 0.9714 - val_loss: 0.1246 - val_acc: 0.9612\n",
      "Epoch 11/30\n",
      "16000/16000 [==============================] - 11s 657us/step - loss: 0.0764 - acc: 0.9771 - val_loss: 0.1165 - val_acc: 0.9687\n",
      "Epoch 12/30\n",
      "16000/16000 [==============================] - 11s 673us/step - loss: 0.0744 - acc: 0.9766 - val_loss: 0.1192 - val_acc: 0.9655\n",
      "Epoch 13/30\n",
      "16000/16000 [==============================] - 11s 676us/step - loss: 0.0570 - acc: 0.9823 - val_loss: 0.1146 - val_acc: 0.9645\n",
      "Epoch 14/30\n",
      "16000/16000 [==============================] - 11s 699us/step - loss: 0.0544 - acc: 0.9835 - val_loss: 0.1286 - val_acc: 0.9655\n",
      "Epoch 15/30\n",
      "16000/16000 [==============================] - 11s 664us/step - loss: 0.0508 - acc: 0.9847 - val_loss: 0.1108 - val_acc: 0.9690\n",
      "Epoch 16/30\n",
      "16000/16000 [==============================] - 11s 674us/step - loss: 0.0450 - acc: 0.9857 - val_loss: 0.1005 - val_acc: 0.9690\n",
      "Epoch 17/30\n",
      "16000/16000 [==============================] - 11s 685us/step - loss: 0.0434 - acc: 0.9858 - val_loss: 0.1094 - val_acc: 0.9685\n",
      "Epoch 18/30\n",
      "16000/16000 [==============================] - 11s 687us/step - loss: 0.0427 - acc: 0.9872 - val_loss: 0.1147 - val_acc: 0.9670\n",
      "Epoch 19/30\n",
      "16000/16000 [==============================] - 11s 661us/step - loss: 0.0361 - acc: 0.9891 - val_loss: 0.1014 - val_acc: 0.9725\n",
      "Epoch 20/30\n",
      "16000/16000 [==============================] - 11s 671us/step - loss: 0.0258 - acc: 0.9927 - val_loss: 0.1054 - val_acc: 0.9680\n",
      "Epoch 21/30\n",
      "16000/16000 [==============================] - 11s 672us/step - loss: 0.0289 - acc: 0.9911 - val_loss: 0.1085 - val_acc: 0.9685\n",
      "Epoch 22/30\n",
      "16000/16000 [==============================] - 11s 674us/step - loss: 0.0300 - acc: 0.9898 - val_loss: 0.1221 - val_acc: 0.9680\n",
      "Epoch 23/30\n",
      "16000/16000 [==============================] - 11s 673us/step - loss: 0.0316 - acc: 0.9897 - val_loss: 0.1067 - val_acc: 0.9677\n",
      "Epoch 24/30\n",
      "16000/16000 [==============================] - 11s 679us/step - loss: 0.0242 - acc: 0.9927 - val_loss: 0.0956 - val_acc: 0.9710\n",
      "Epoch 25/30\n",
      "16000/16000 [==============================] - 11s 697us/step - loss: 0.0150 - acc: 0.9966 - val_loss: 0.0920 - val_acc: 0.9745\n",
      "Epoch 26/30\n",
      "16000/16000 [==============================] - 11s 668us/step - loss: 0.0112 - acc: 0.9975 - val_loss: 0.0976 - val_acc: 0.9723\n",
      "Epoch 27/30\n",
      "16000/16000 [==============================] - 11s 671us/step - loss: 0.0135 - acc: 0.9967 - val_loss: 0.0978 - val_acc: 0.9728\n",
      "Epoch 28/30\n",
      "16000/16000 [==============================] - 11s 687us/step - loss: 0.0118 - acc: 0.9969 - val_loss: 0.1027 - val_acc: 0.9735\n",
      "Epoch 29/30\n",
      "16000/16000 [==============================] - 11s 685us/step - loss: 0.0221 - acc: 0.9930 - val_loss: 0.1270 - val_acc: 0.9655\n",
      "Epoch 30/30\n",
      "16000/16000 [==============================] - 11s 686us/step - loss: 0.0284 - acc: 0.9907 - val_loss: 0.1080 - val_acc: 0.9680\n"
     ]
    }
   ],
   "source": [
    "epochs = 30\n",
    "batch_size = 250\n",
    "early_stopping = EarlyStopping(monitor='val_loss', patience=10, verbose=1)\n",
    "\n",
    "hist = model.fit(X_train, Y_train,\n",
    "                 batch_size=batch_size,\n",
    "                 epochs=epochs,\n",
    "                 validation_data=(X_validation, Y_validation),\n",
    "                 callbacks=[early_stopping])"
   ]
  },
  {
   "cell_type": "code",
   "execution_count": 19,
   "metadata": {},
   "outputs": [
    {
     "data": {
      "image/png": "[encoded data removed]",
      "text/plain": [
       "<matplotlib.figure.Figure at 0x7fda46021fd0>"
      ]
     },
     "metadata": {},
     "output_type": "display_data"
    }
   ],
   "source": [
    "acc = hist.history['val_acc']\n",
    "loss = hist.history['val_loss']\n",
    "\n",
    "plt.rc('font', family='serif')\n",
    "fig = plt.figure()\n",
    "plt.plot(range(len(loss)), loss,\n",
    "         label='loss', color='black')\n",
    "plt.xlabel('epochs')\n",
    "plt.show()"
   ]
  },
  {
   "cell_type": "code",
   "execution_count": 20,
   "metadata": {},
   "outputs": [
    {
     "name": "stdout",
     "output_type": "stream",
     "text": [
      "10000/10000 [==============================] - 2s 250us/step\n",
      "[0.10811537804752588, 0.97130000000000005]\n"
     ]
    }
   ],
   "source": [
    "loss_and_metrics = model.evaluate(X_test, Y_test)\n",
    "print(loss_and_metrics)"
   ]
  },
  {
   "cell_type": "code",
   "execution_count": null,
   "metadata": {
    "collapsed": true
   },
   "outputs": [],
   "source": []
  }
 ],
 "metadata": {
  "kernelspec": {
   "display_name": "Python 3",
   "language": "python",
   "name": "python3"
  },
  "language_info": {
   "codemirror_mode": {
    "name": "ipython",
    "version": 3
   },
   "file_extension": ".py",
   "mimetype": "text/x-python",
   "name": "python",
   "nbconvert_exporter": "python",
   "pygments_lexer": "ipython3",
   "version": "3.6.3"
  }
 },
 "nbformat": 4,
 "nbformat_minor": 2
}
