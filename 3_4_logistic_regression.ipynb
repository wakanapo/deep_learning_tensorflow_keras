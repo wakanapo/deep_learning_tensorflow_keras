{
 "cells": [
  {
   "cell_type": "code",
   "execution_count": 1,
   "metadata": {},
   "outputs": [],
   "source": [
    "import warnings\n",
    "warnings.filterwarnings('ignore')\n",
    "import numpy as np\n",
    "import tensorflow as tf"
   ]
  },
  {
   "cell_type": "code",
   "execution_count": 2,
   "metadata": {
    "collapsed": true
   },
   "outputs": [],
   "source": [
    "w = tf.Variable(tf.zeros([2, 1]))\n",
    "b = tf.Variable(tf.zeros([1]))"
   ]
  },
  {
   "cell_type": "code",
   "execution_count": 3,
   "metadata": {
    "collapsed": true
   },
   "outputs": [],
   "source": [
    "x = tf.placeholder(tf.float32, shape=[None, 2])\n",
    "t = tf.placeholder(tf.float32, shape=[None, 1])\n",
    "y = tf.nn.sigmoid(tf.matmul(x, w) + b)"
   ]
  },
  {
   "cell_type": "code",
   "execution_count": 4,
   "metadata": {
    "collapsed": true
   },
   "outputs": [],
   "source": [
    "cross_entropy = -tf.reduce_sum(t * tf.log(y) + (1 - t) * tf.log(1 - y))"
   ]
  },
  {
   "cell_type": "code",
   "execution_count": 5,
   "metadata": {
    "collapsed": true
   },
   "outputs": [],
   "source": [
    "train_step = tf.train.GradientDescentOptimizer(0.1).minimize(cross_entropy)"
   ]
  },
  {
   "cell_type": "code",
   "execution_count": 6,
   "metadata": {
    "collapsed": true
   },
   "outputs": [],
   "source": [
    "correct_prediction = tf.equal(tf.to_float(tf.greater(y, 0.5)), t)"
   ]
  },
  {
   "cell_type": "code",
   "execution_count": 7,
   "metadata": {
    "collapsed": true
   },
   "outputs": [],
   "source": [
    "X = np.array([[0, 0], [0, 1], [1, 0], [1, 1]])\n",
    "Y = np.array([[0], [1], [1], [1]])"
   ]
  },
  {
   "cell_type": "code",
   "execution_count": 8,
   "metadata": {
    "collapsed": true
   },
   "outputs": [],
   "source": [
    "init = tf.global_variables_initializer()\n",
    "sess = tf.Session()\n",
    "sess.run(init)"
   ]
  },
  {
   "cell_type": "code",
   "execution_count": 9,
   "metadata": {
    "collapsed": true
   },
   "outputs": [],
   "source": [
    "for epoch in range(200):\n",
    "    sess.run(train_step, feed_dict={x: X, t: Y})"
   ]
  },
  {
   "cell_type": "code",
   "execution_count": 10,
   "metadata": {},
   "outputs": [
    {
     "name": "stdout",
     "output_type": "stream",
     "text": [
      "[[ True]\n",
      " [ True]\n",
      " [ True]\n",
      " [ True]]\n"
     ]
    }
   ],
   "source": [
    "classified = correct_prediction.eval(session=sess, feed_dict={x: X, t:Y})\n",
    "print(classified)"
   ]
  },
  {
   "cell_type": "code",
   "execution_count": 11,
   "metadata": {},
   "outputs": [
    {
     "name": "stdout",
     "output_type": "stream",
     "text": [
      "[[ 0.22355038]\n",
      " [ 0.91425949]\n",
      " [ 0.91425949]\n",
      " [ 0.99747425]]\n"
     ]
    }
   ],
   "source": [
    "prob = y.eval(session=sess, feed_dict={x:X, t:Y})\n",
    "print(prob)"
   ]
  },
  {
   "cell_type": "code",
   "execution_count": 12,
   "metadata": {},
   "outputs": [
    {
     "name": "stdout",
     "output_type": "stream",
     "text": [
      "w:  [[ 3.61188436]\n",
      " [ 3.61188436]]\n",
      "b:  [-1.24509501]\n"
     ]
    }
   ],
   "source": [
    "print('w: ', sess.run(w))\n",
    "print('b: ', sess.run(b))"
   ]
  },
  {
   "cell_type": "code",
   "execution_count": 13,
   "metadata": {},
   "outputs": [
    {
     "name": "stderr",
     "output_type": "stream",
     "text": [
      "Using TensorFlow backend.\n"
     ]
    }
   ],
   "source": [
    "from keras.models import Sequential\n",
    "from keras.layers import Dense, Activation\n",
    "from keras.optimizers import SGD"
   ]
  },
  {
   "cell_type": "code",
   "execution_count": 14,
   "metadata": {
    "collapsed": true
   },
   "outputs": [],
   "source": [
    "model = Sequential([\n",
    "    Dense(input_dim=2, units=1),\n",
    "    Activation('sigmoid')\n",
    "])"
   ]
  },
  {
   "cell_type": "code",
   "execution_count": 15,
   "metadata": {
    "collapsed": true
   },
   "outputs": [],
   "source": [
    "model.compile(loss='binary_crossentropy', optimizer=SGD(lr=0.1))"
   ]
  },
  {
   "cell_type": "code",
   "execution_count": 16,
   "metadata": {
    "collapsed": true
   },
   "outputs": [],
   "source": [
    "X = np.array([[0, 0], [0, 1], [1, 0], [1, 1]])\n",
    "Y = np.array([[0], [1], [1], [1]])"
   ]
  },
  {
   "cell_type": "code",
   "execution_count": 17,
   "metadata": {},
   "outputs": [
    {
     "name": "stdout",
     "output_type": "stream",
     "text": [
      "Epoch 1/200\n",
      "4/4 [==============================] - 0s 23ms/step - loss: 0.6189\n",
      "Epoch 2/200\n",
      "4/4 [==============================] - 0s 1ms/step - loss: 0.5698\n",
      "Epoch 3/200\n",
      "4/4 [==============================] - 0s 2ms/step - loss: 0.5325\n",
      "Epoch 4/200\n",
      "4/4 [==============================] - 0s 967us/step - loss: 0.5040\n",
      "Epoch 5/200\n",
      "4/4 [==============================] - 0s 1ms/step - loss: 0.4823\n",
      "Epoch 6/200\n",
      "4/4 [==============================] - 0s 2ms/step - loss: 0.4649\n",
      "Epoch 7/200\n",
      "4/4 [==============================] - 0s 2ms/step - loss: 0.4502\n",
      "Epoch 8/200\n",
      "4/4 [==============================] - 0s 2ms/step - loss: 0.4378\n",
      "Epoch 9/200\n",
      "4/4 [==============================] - 0s 2ms/step - loss: 0.4273\n",
      "Epoch 10/200\n",
      "4/4 [==============================] - 0s 2ms/step - loss: 0.4182\n",
      "Epoch 11/200\n",
      "4/4 [==============================] - 0s 1ms/step - loss: 0.4099\n",
      "Epoch 12/200\n",
      "4/4 [==============================] - 0s 1ms/step - loss: 0.4024\n",
      "Epoch 13/200\n",
      "4/4 [==============================] - 0s 1ms/step - loss: 0.3956\n",
      "Epoch 14/200\n",
      "4/4 [==============================] - 0s 1ms/step - loss: 0.3895\n",
      "Epoch 15/200\n",
      "4/4 [==============================] - 0s 2ms/step - loss: 0.3837\n",
      "Epoch 16/200\n",
      "4/4 [==============================] - 0s 1ms/step - loss: 0.3782\n",
      "Epoch 17/200\n",
      "4/4 [==============================] - 0s 930us/step - loss: 0.3731\n",
      "Epoch 18/200\n",
      "4/4 [==============================] - 0s 987us/step - loss: 0.3681\n",
      "Epoch 19/200\n",
      "4/4 [==============================] - 0s 2ms/step - loss: 0.3633\n",
      "Epoch 20/200\n",
      "4/4 [==============================] - 0s 916us/step - loss: 0.3589\n",
      "Epoch 21/200\n",
      "4/4 [==============================] - 0s 899us/step - loss: 0.3545\n",
      "Epoch 22/200\n",
      "4/4 [==============================] - 0s 920us/step - loss: 0.3503\n",
      "Epoch 23/200\n",
      "4/4 [==============================] - 0s 894us/step - loss: 0.3462\n",
      "Epoch 24/200\n",
      "4/4 [==============================] - 0s 1ms/step - loss: 0.3422\n",
      "Epoch 25/200\n",
      "4/4 [==============================] - 0s 945us/step - loss: 0.3383\n",
      "Epoch 26/200\n",
      "4/4 [==============================] - 0s 1ms/step - loss: 0.3346\n",
      "Epoch 27/200\n",
      "4/4 [==============================] - 0s 864us/step - loss: 0.3308\n",
      "Epoch 28/200\n",
      "4/4 [==============================] - 0s 1ms/step - loss: 0.3273\n",
      "Epoch 29/200\n",
      "4/4 [==============================] - 0s 879us/step - loss: 0.3238\n",
      "Epoch 30/200\n",
      "4/4 [==============================] - 0s 928us/step - loss: 0.3204\n",
      "Epoch 31/200\n",
      "4/4 [==============================] - 0s 927us/step - loss: 0.3170\n",
      "Epoch 32/200\n",
      "4/4 [==============================] - 0s 902us/step - loss: 0.3137\n",
      "Epoch 33/200\n",
      "4/4 [==============================] - 0s 915us/step - loss: 0.3106\n",
      "Epoch 34/200\n",
      "4/4 [==============================] - 0s 906us/step - loss: 0.3074\n",
      "Epoch 35/200\n",
      "4/4 [==============================] - 0s 933us/step - loss: 0.3043\n",
      "Epoch 36/200\n",
      "4/4 [==============================] - 0s 870us/step - loss: 0.3013\n",
      "Epoch 37/200\n",
      "4/4 [==============================] - 0s 859us/step - loss: 0.2983\n",
      "Epoch 38/200\n",
      "4/4 [==============================] - 0s 1ms/step - loss: 0.2953\n",
      "Epoch 39/200\n",
      "4/4 [==============================] - 0s 956us/step - loss: 0.2925\n",
      "Epoch 40/200\n",
      "4/4 [==============================] - 0s 1ms/step - loss: 0.2897\n",
      "Epoch 41/200\n",
      "4/4 [==============================] - 0s 1ms/step - loss: 0.2869\n",
      "Epoch 42/200\n",
      "4/4 [==============================] - 0s 1ms/step - loss: 0.2842\n",
      "Epoch 43/200\n",
      "4/4 [==============================] - 0s 811us/step - loss: 0.2815\n",
      "Epoch 44/200\n",
      "4/4 [==============================] - 0s 849us/step - loss: 0.2789\n",
      "Epoch 45/200\n",
      "4/4 [==============================] - 0s 956us/step - loss: 0.2763\n",
      "Epoch 46/200\n",
      "4/4 [==============================] - 0s 1ms/step - loss: 0.2738\n",
      "Epoch 47/200\n",
      "4/4 [==============================] - 0s 1ms/step - loss: 0.2712\n",
      "Epoch 48/200\n",
      "4/4 [==============================] - 0s 1ms/step - loss: 0.2688\n",
      "Epoch 49/200\n",
      "4/4 [==============================] - 0s 1ms/step - loss: 0.2664\n",
      "Epoch 50/200\n",
      "4/4 [==============================] - 0s 994us/step - loss: 0.2640\n",
      "Epoch 51/200\n",
      "4/4 [==============================] - 0s 943us/step - loss: 0.2617\n",
      "Epoch 52/200\n",
      "4/4 [==============================] - 0s 973us/step - loss: 0.2594\n",
      "Epoch 53/200\n",
      "4/4 [==============================] - 0s 909us/step - loss: 0.2571\n",
      "Epoch 54/200\n",
      "4/4 [==============================] - 0s 928us/step - loss: 0.2549\n",
      "Epoch 55/200\n",
      "4/4 [==============================] - 0s 888us/step - loss: 0.2527\n",
      "Epoch 56/200\n",
      "4/4 [==============================] - 0s 916us/step - loss: 0.2505\n",
      "Epoch 57/200\n",
      "4/4 [==============================] - 0s 844us/step - loss: 0.2484\n",
      "Epoch 58/200\n",
      "4/4 [==============================] - 0s 968us/step - loss: 0.2463\n",
      "Epoch 59/200\n",
      "4/4 [==============================] - 0s 2ms/step - loss: 0.2443\n",
      "Epoch 60/200\n",
      "4/4 [==============================] - 0s 2ms/step - loss: 0.2422\n",
      "Epoch 61/200\n",
      "4/4 [==============================] - 0s 1ms/step - loss: 0.2402\n",
      "Epoch 62/200\n",
      "4/4 [==============================] - 0s 1ms/step - loss: 0.2383\n",
      "Epoch 63/200\n",
      "4/4 [==============================] - 0s 1ms/step - loss: 0.2363\n",
      "Epoch 64/200\n",
      "4/4 [==============================] - 0s 1ms/step - loss: 0.2344\n",
      "Epoch 65/200\n",
      "4/4 [==============================] - 0s 1ms/step - loss: 0.2325\n",
      "Epoch 66/200\n",
      "4/4 [==============================] - 0s 2ms/step - loss: 0.2307\n",
      "Epoch 67/200\n",
      "4/4 [==============================] - 0s 1ms/step - loss: 0.2288\n",
      "Epoch 68/200\n",
      "4/4 [==============================] - 0s 2ms/step - loss: 0.2270\n",
      "Epoch 69/200\n",
      "4/4 [==============================] - 0s 998us/step - loss: 0.2253\n",
      "Epoch 70/200\n",
      "4/4 [==============================] - 0s 891us/step - loss: 0.2235\n",
      "Epoch 71/200\n",
      "4/4 [==============================] - 0s 934us/step - loss: 0.2218\n",
      "Epoch 72/200\n",
      "4/4 [==============================] - 0s 911us/step - loss: 0.2201\n",
      "Epoch 73/200\n",
      "4/4 [==============================] - 0s 890us/step - loss: 0.2184\n",
      "Epoch 74/200\n",
      "4/4 [==============================] - 0s 1ms/step - loss: 0.2168\n",
      "Epoch 75/200\n",
      "4/4 [==============================] - 0s 2ms/step - loss: 0.2151\n",
      "Epoch 76/200\n",
      "4/4 [==============================] - 0s 1ms/step - loss: 0.2135\n",
      "Epoch 77/200\n",
      "4/4 [==============================] - 0s 876us/step - loss: 0.2120\n",
      "Epoch 78/200\n",
      "4/4 [==============================] - 0s 892us/step - loss: 0.2104\n",
      "Epoch 79/200\n",
      "4/4 [==============================] - 0s 1ms/step - loss: 0.2088\n",
      "Epoch 80/200\n",
      "4/4 [==============================] - 0s 993us/step - loss: 0.2073\n",
      "Epoch 81/200\n",
      "4/4 [==============================] - 0s 910us/step - loss: 0.2058\n",
      "Epoch 82/200\n",
      "4/4 [==============================] - ETA: 0s - loss: 0.153 - 0s 892us/step - loss: 0.2043\n",
      "Epoch 83/200\n",
      "4/4 [==============================] - 0s 1ms/step - loss: 0.2029\n",
      "Epoch 84/200\n",
      "4/4 [==============================] - 0s 2ms/step - loss: 0.2014\n",
      "Epoch 85/200\n",
      "4/4 [==============================] - 0s 2ms/step - loss: 0.2000\n",
      "Epoch 86/200\n",
      "4/4 [==============================] - 0s 957us/step - loss: 0.1986\n",
      "Epoch 87/200\n",
      "4/4 [==============================] - 0s 848us/step - loss: 0.1972\n",
      "Epoch 88/200\n",
      "4/4 [==============================] - 0s 843us/step - loss: 0.1958\n",
      "Epoch 89/200\n",
      "4/4 [==============================] - 0s 2ms/step - loss: 0.1945\n",
      "Epoch 90/200\n",
      "4/4 [==============================] - 0s 2ms/step - loss: 0.1931\n",
      "Epoch 91/200\n",
      "4/4 [==============================] - 0s 2ms/step - loss: 0.1918\n",
      "Epoch 92/200\n",
      "4/4 [==============================] - 0s 2ms/step - loss: 0.1905\n",
      "Epoch 93/200\n",
      "4/4 [==============================] - 0s 2ms/step - loss: 0.1892\n",
      "Epoch 94/200\n",
      "4/4 [==============================] - 0s 1ms/step - loss: 0.1880\n",
      "Epoch 95/200\n",
      "4/4 [==============================] - 0s 1ms/step - loss: 0.1867\n",
      "Epoch 96/200\n",
      "4/4 [==============================] - 0s 2ms/step - loss: 0.1855\n",
      "Epoch 97/200\n",
      "4/4 [==============================] - 0s 1ms/step - loss: 0.1843\n",
      "Epoch 98/200\n",
      "4/4 [==============================] - 0s 870us/step - loss: 0.1831\n",
      "Epoch 99/200\n",
      "4/4 [==============================] - 0s 1ms/step - loss: 0.1819\n",
      "Epoch 100/200\n",
      "4/4 [==============================] - 0s 1ms/step - loss: 0.1807\n",
      "Epoch 101/200\n",
      "4/4 [==============================] - 0s 915us/step - loss: 0.1795\n",
      "Epoch 102/200\n",
      "4/4 [==============================] - 0s 900us/step - loss: 0.1784\n",
      "Epoch 103/200\n"
     ]
    },
    {
     "name": "stdout",
     "output_type": "stream",
     "text": [
      "4/4 [==============================] - 0s 803us/step - loss: 0.1772\n",
      "Epoch 104/200\n",
      "4/4 [==============================] - 0s 1ms/step - loss: 0.1761\n",
      "Epoch 105/200\n",
      "4/4 [==============================] - 0s 1ms/step - loss: 0.1750\n",
      "Epoch 106/200\n",
      "4/4 [==============================] - 0s 1ms/step - loss: 0.1739\n",
      "Epoch 107/200\n",
      "4/4 [==============================] - 0s 882us/step - loss: 0.1728\n",
      "Epoch 108/200\n",
      "4/4 [==============================] - 0s 883us/step - loss: 0.1717\n",
      "Epoch 109/200\n",
      "4/4 [==============================] - 0s 831us/step - loss: 0.1707\n",
      "Epoch 110/200\n",
      "4/4 [==============================] - 0s 874us/step - loss: 0.1696\n",
      "Epoch 111/200\n",
      "4/4 [==============================] - 0s 867us/step - loss: 0.1686\n",
      "Epoch 112/200\n",
      "4/4 [==============================] - 0s 907us/step - loss: 0.1676\n",
      "Epoch 113/200\n",
      "4/4 [==============================] - 0s 928us/step - loss: 0.1666\n",
      "Epoch 114/200\n",
      "4/4 [==============================] - 0s 896us/step - loss: 0.1655\n",
      "Epoch 115/200\n",
      "4/4 [==============================] - 0s 840us/step - loss: 0.1646\n",
      "Epoch 116/200\n",
      "4/4 [==============================] - 0s 948us/step - loss: 0.1636\n",
      "Epoch 117/200\n",
      "4/4 [==============================] - 0s 900us/step - loss: 0.1626\n",
      "Epoch 118/200\n",
      "4/4 [==============================] - 0s 816us/step - loss: 0.1616\n",
      "Epoch 119/200\n",
      "4/4 [==============================] - 0s 908us/step - loss: 0.1607\n",
      "Epoch 120/200\n",
      "4/4 [==============================] - 0s 810us/step - loss: 0.1598\n",
      "Epoch 121/200\n",
      "4/4 [==============================] - 0s 882us/step - loss: 0.1588\n",
      "Epoch 122/200\n",
      "4/4 [==============================] - 0s 870us/step - loss: 0.1579\n",
      "Epoch 123/200\n",
      "4/4 [==============================] - 0s 1ms/step - loss: 0.1570\n",
      "Epoch 124/200\n",
      "4/4 [==============================] - 0s 831us/step - loss: 0.1561\n",
      "Epoch 125/200\n",
      "4/4 [==============================] - 0s 1ms/step - loss: 0.1552\n",
      "Epoch 126/200\n",
      "4/4 [==============================] - 0s 1ms/step - loss: 0.1543\n",
      "Epoch 127/200\n",
      "4/4 [==============================] - 0s 2ms/step - loss: 0.1535\n",
      "Epoch 128/200\n",
      "4/4 [==============================] - 0s 1ms/step - loss: 0.1526\n",
      "Epoch 129/200\n",
      "4/4 [==============================] - 0s 863us/step - loss: 0.1517\n",
      "Epoch 130/200\n",
      "4/4 [==============================] - 0s 913us/step - loss: 0.1509\n",
      "Epoch 131/200\n",
      "4/4 [==============================] - 0s 834us/step - loss: 0.1501\n",
      "Epoch 132/200\n",
      "4/4 [==============================] - 0s 2ms/step - loss: 0.1492\n",
      "Epoch 133/200\n",
      "4/4 [==============================] - 0s 2ms/step - loss: 0.1484\n",
      "Epoch 134/200\n",
      "4/4 [==============================] - 0s 3ms/step - loss: 0.1476\n",
      "Epoch 135/200\n",
      "4/4 [==============================] - 0s 2ms/step - loss: 0.1468\n",
      "Epoch 136/200\n",
      "4/4 [==============================] - 0s 1ms/step - loss: 0.1460\n",
      "Epoch 137/200\n",
      "4/4 [==============================] - 0s 1ms/step - loss: 0.1452\n",
      "Epoch 138/200\n",
      "4/4 [==============================] - 0s 1ms/step - loss: 0.1445\n",
      "Epoch 139/200\n",
      "4/4 [==============================] - 0s 2ms/step - loss: 0.1437\n",
      "Epoch 140/200\n",
      "4/4 [==============================] - 0s 2ms/step - loss: 0.1429\n",
      "Epoch 141/200\n",
      "4/4 [==============================] - 0s 2ms/step - loss: 0.1422\n",
      "Epoch 142/200\n",
      "4/4 [==============================] - 0s 2ms/step - loss: 0.1414\n",
      "Epoch 143/200\n",
      "4/4 [==============================] - 0s 2ms/step - loss: 0.1407\n",
      "Epoch 144/200\n",
      "4/4 [==============================] - 0s 2ms/step - loss: 0.1399\n",
      "Epoch 145/200\n",
      "4/4 [==============================] - 0s 3ms/step - loss: 0.1392\n",
      "Epoch 146/200\n",
      "4/4 [==============================] - 0s 1ms/step - loss: 0.1385\n",
      "Epoch 147/200\n",
      "4/4 [==============================] - 0s 1ms/step - loss: 0.1378\n",
      "Epoch 148/200\n",
      "4/4 [==============================] - 0s 1ms/step - loss: 0.1371\n",
      "Epoch 149/200\n",
      "4/4 [==============================] - 0s 1ms/step - loss: 0.1364\n",
      "Epoch 150/200\n",
      "4/4 [==============================] - 0s 2ms/step - loss: 0.1357\n",
      "Epoch 151/200\n",
      "4/4 [==============================] - 0s 1ms/step - loss: 0.1350\n",
      "Epoch 152/200\n",
      "4/4 [==============================] - 0s 1ms/step - loss: 0.1343\n",
      "Epoch 153/200\n",
      "4/4 [==============================] - 0s 1ms/step - loss: 0.1337\n",
      "Epoch 154/200\n",
      "4/4 [==============================] - 0s 2ms/step - loss: 0.1330\n",
      "Epoch 155/200\n",
      "4/4 [==============================] - 0s 2ms/step - loss: 0.1323\n",
      "Epoch 156/200\n",
      "4/4 [==============================] - 0s 981us/step - loss: 0.1317\n",
      "Epoch 157/200\n",
      "4/4 [==============================] - 0s 1ms/step - loss: 0.1310\n",
      "Epoch 158/200\n",
      "4/4 [==============================] - 0s 2ms/step - loss: 0.1304\n",
      "Epoch 159/200\n",
      "4/4 [==============================] - 0s 1ms/step - loss: 0.1298\n",
      "Epoch 160/200\n",
      "4/4 [==============================] - 0s 1ms/step - loss: 0.1291\n",
      "Epoch 161/200\n",
      "4/4 [==============================] - 0s 4ms/step - loss: 0.1285\n",
      "Epoch 162/200\n",
      "4/4 [==============================] - ETA: 0s - loss: 0.100 - 0s 1ms/step - loss: 0.1279\n",
      "Epoch 163/200\n",
      "4/4 [==============================] - 0s 2ms/step - loss: 0.1273\n",
      "Epoch 164/200\n",
      "4/4 [==============================] - 0s 1ms/step - loss: 0.1267\n",
      "Epoch 165/200\n",
      "4/4 [==============================] - 0s 1ms/step - loss: 0.1261\n",
      "Epoch 166/200\n",
      "4/4 [==============================] - 0s 892us/step - loss: 0.1255\n",
      "Epoch 167/200\n",
      "4/4 [==============================] - 0s 964us/step - loss: 0.1249\n",
      "Epoch 168/200\n",
      "4/4 [==============================] - 0s 896us/step - loss: 0.1243\n",
      "Epoch 169/200\n",
      "4/4 [==============================] - 0s 1ms/step - loss: 0.1237\n",
      "Epoch 170/200\n",
      "4/4 [==============================] - 0s 997us/step - loss: 0.1231\n",
      "Epoch 171/200\n",
      "4/4 [==============================] - 0s 1ms/step - loss: 0.1226\n",
      "Epoch 172/200\n",
      "4/4 [==============================] - 0s 966us/step - loss: 0.1220\n",
      "Epoch 173/200\n",
      "4/4 [==============================] - 0s 871us/step - loss: 0.1214\n",
      "Epoch 174/200\n",
      "4/4 [==============================] - 0s 837us/step - loss: 0.1209\n",
      "Epoch 175/200\n",
      "4/4 [==============================] - ETA: 0s - loss: 0.099 - 0s 836us/step - loss: 0.1203\n",
      "Epoch 176/200\n",
      "4/4 [==============================] - 0s 911us/step - loss: 0.1198\n",
      "Epoch 177/200\n",
      "4/4 [==============================] - 0s 877us/step - loss: 0.1192\n",
      "Epoch 178/200\n",
      "4/4 [==============================] - 0s 1ms/step - loss: 0.1187\n",
      "Epoch 179/200\n",
      "4/4 [==============================] - 0s 1ms/step - loss: 0.1182\n",
      "Epoch 180/200\n",
      "4/4 [==============================] - 0s 2ms/step - loss: 0.1176\n",
      "Epoch 181/200\n",
      "4/4 [==============================] - 0s 1ms/step - loss: 0.1171\n",
      "Epoch 182/200\n",
      "4/4 [==============================] - 0s 1ms/step - loss: 0.1166\n",
      "Epoch 183/200\n",
      "4/4 [==============================] - 0s 880us/step - loss: 0.1161\n",
      "Epoch 184/200\n",
      "4/4 [==============================] - 0s 949us/step - loss: 0.1156\n",
      "Epoch 185/200\n",
      "4/4 [==============================] - 0s 830us/step - loss: 0.1150\n",
      "Epoch 186/200\n",
      "4/4 [==============================] - 0s 849us/step - loss: 0.1145\n",
      "Epoch 187/200\n",
      "4/4 [==============================] - 0s 1ms/step - loss: 0.1140\n",
      "Epoch 188/200\n",
      "4/4 [==============================] - 0s 1ms/step - loss: 0.1135\n",
      "Epoch 189/200\n",
      "4/4 [==============================] - 0s 889us/step - loss: 0.1131\n",
      "Epoch 190/200\n",
      "4/4 [==============================] - 0s 859us/step - loss: 0.1126\n",
      "Epoch 191/200\n",
      "4/4 [==============================] - 0s 845us/step - loss: 0.1121\n",
      "Epoch 192/200\n",
      "4/4 [==============================] - 0s 3ms/step - loss: 0.1116\n",
      "Epoch 193/200\n",
      "4/4 [==============================] - 0s 2ms/step - loss: 0.1111\n",
      "Epoch 194/200\n",
      "4/4 [==============================] - 0s 1ms/step - loss: 0.1107\n",
      "Epoch 195/200\n",
      "4/4 [==============================] - 0s 1ms/step - loss: 0.1102\n",
      "Epoch 196/200\n",
      "4/4 [==============================] - 0s 961us/step - loss: 0.1097\n",
      "Epoch 197/200\n",
      "4/4 [==============================] - 0s 958us/step - loss: 0.1093\n",
      "Epoch 198/200\n",
      "4/4 [==============================] - 0s 958us/step - loss: 0.1088\n",
      "Epoch 199/200\n",
      "4/4 [==============================] - 0s 1ms/step - loss: 0.1084\n",
      "Epoch 200/200\n",
      "4/4 [==============================] - 0s 1ms/step - loss: 0.1079\n"
     ]
    },
    {
     "data": {
      "text/plain": [
       "<keras.callbacks.History at 0x7f12d85cdba8>"
      ]
     },
     "execution_count": 17,
     "metadata": {},
     "output_type": "execute_result"
    }
   ],
   "source": [
    "model.fit(X, Y, epochs=200, batch_size=1)"
   ]
  },
  {
   "cell_type": "code",
   "execution_count": 18,
   "metadata": {},
   "outputs": [
    {
     "name": "stdout",
     "output_type": "stream",
     "text": [
      "4/4 [==============================] - 0s 2ms/step\n",
      "4/4 [==============================] - 0s 731us/step\n"
     ]
    }
   ],
   "source": [
    "classes = model.predict_classes(X, batch_size=1)\n",
    "prob = model.predict_proba(X, batch_size=1)"
   ]
  },
  {
   "cell_type": "code",
   "execution_count": 19,
   "metadata": {},
   "outputs": [
    {
     "name": "stdout",
     "output_type": "stream",
     "text": [
      "classified: \n",
      " [[ True]\n",
      " [ True]\n",
      " [ True]\n",
      " [ True]]\n",
      "\n",
      "output probability: \n",
      "[[ 0.21984781]\n",
      " [ 0.9146415 ]\n",
      " [ 0.9166894 ]\n",
      " [ 0.99761558]]\n"
     ]
    }
   ],
   "source": [
    "print('classified: \\n', Y == classes)\n",
    "print()\n",
    "print('output probability: ')\n",
    "print(prob)"
   ]
  },
  {
   "cell_type": "code",
   "execution_count": null,
   "metadata": {
    "collapsed": true
   },
   "outputs": [],
   "source": []
  }
 ],
 "metadata": {
  "kernelspec": {
   "display_name": "Python 3",
   "language": "python",
   "name": "python3"
  },
  "language_info": {
   "codemirror_mode": {
    "name": "ipython",
    "version": 3
   },
   "file_extension": ".py",
   "mimetype": "text/x-python",
   "name": "python",
   "nbconvert_exporter": "python",
   "pygments_lexer": "ipython3",
   "version": "3.6.3"
  }
 },
 "nbformat": 4,
 "nbformat_minor": 2
}
