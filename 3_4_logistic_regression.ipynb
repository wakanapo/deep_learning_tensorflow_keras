{
 "cells": [
  {
   "cell_type": "code",
   "execution_count": 2,
   "metadata": {},
   "outputs": [
    {
     "name": "stderr",
     "output_type": "stream",
     "text": [
      "/home/shimazu/.pyenv/versions/anaconda3-5.0.1/lib/python3.6/importlib/_bootstrap.py:219: RuntimeWarning: compiletime version 3.5 of module 'tensorflow.python.framework.fast_tensor_util' does not match runtime version 3.6\n",
      "  return f(*args, **kwds)\n"
     ]
    }
   ],
   "source": [
    "import numpy as np\n",
    "import tensorflow as tf"
   ]
  },
  {
   "cell_type": "code",
   "execution_count": 5,
   "metadata": {},
   "outputs": [],
   "source": [
    "w = tf.Variable(tf.zeros([2, 1]))\n",
    "b = tf.Variable(tf.zeros([1]))"
   ]
  },
  {
   "cell_type": "code",
   "execution_count": 6,
   "metadata": {
    "collapsed": true
   },
   "outputs": [],
   "source": [
    "x = tf.placeholder(tf.float32, shape=[None, 2])\n",
    "t = tf.placeholder(tf.float32, shape=[None, 1])\n",
    "y = tf.nn.sigmoid(tf.matmul(x, w) + b)"
   ]
  },
  {
   "cell_type": "code",
   "execution_count": 8,
   "metadata": {},
   "outputs": [],
   "source": [
    "cross_entropy = -tf.reduce_sum(t * tf.log(y) + (1 - t) * tf.log(1 - y))"
   ]
  },
  {
   "cell_type": "code",
   "execution_count": 9,
   "metadata": {
    "collapsed": true
   },
   "outputs": [],
   "source": [
    "train_step = tf.train.GradientDescentOptimizer(0.1).minimize(cross_entropy)"
   ]
  },
  {
   "cell_type": "code",
   "execution_count": 10,
   "metadata": {
    "collapsed": true
   },
   "outputs": [],
   "source": [
    "correct_prediction = tf.equal(tf.to_float(tf.greater(y, 0.5)), t)"
   ]
  },
  {
   "cell_type": "code",
   "execution_count": 11,
   "metadata": {
    "collapsed": true
   },
   "outputs": [],
   "source": [
    "X = np.array([[0, 0], [0, 1], [1, 0], [1, 1]])\n",
    "Y = np.array([[0], [1], [1], [1]])"
   ]
  },
  {
   "cell_type": "code",
   "execution_count": 12,
   "metadata": {
    "collapsed": true
   },
   "outputs": [],
   "source": [
    "init = tf.global_variables_initializer()\n",
    "sess = tf.Session()\n",
    "sess.run(init)"
   ]
  },
  {
   "cell_type": "code",
   "execution_count": 13,
   "metadata": {
    "collapsed": true
   },
   "outputs": [],
   "source": [
    "for epoch in range(200):\n",
    "    sess.run(train_step, feed_dict={x: X, t: Y})"
   ]
  },
  {
   "cell_type": "code",
   "execution_count": 15,
   "metadata": {},
   "outputs": [
    {
     "name": "stdout",
     "output_type": "stream",
     "text": [
      "[[ True]\n",
      " [ True]\n",
      " [ True]\n",
      " [ True]]\n"
     ]
    }
   ],
   "source": [
    "classified = correct_prediction.eval(session=sess, feed_dict={x: X, t:Y})\n",
    "print(classified)"
   ]
  },
  {
   "cell_type": "code",
   "execution_count": 16,
   "metadata": {},
   "outputs": [
    {
     "name": "stdout",
     "output_type": "stream",
     "text": [
      "[[ 0.22355038]\n",
      " [ 0.91425949]\n",
      " [ 0.91425949]\n",
      " [ 0.99747425]]\n"
     ]
    }
   ],
   "source": [
    "prob = y.eval(session=sess, feed_dict={x:X, t:Y})\n",
    "print(prob)"
   ]
  },
  {
   "cell_type": "code",
   "execution_count": 17,
   "metadata": {},
   "outputs": [
    {
     "name": "stdout",
     "output_type": "stream",
     "text": [
      "w:  [[ 3.61188436]\n",
      " [ 3.61188436]]\n",
      "b:  [-1.24509501]\n"
     ]
    }
   ],
   "source": [
    "print('w: ', sess.run(w))\n",
    "print('b: ', sess.run(b))"
   ]
  },
  {
   "cell_type": "code",
   "execution_count": 21,
   "metadata": {},
   "outputs": [],
   "source": [
    "from keras.models import Sequential\n",
    "from keras.layers import Dense, Activation\n",
    "from keras.optimizers import SGD"
   ]
  },
  {
   "cell_type": "code",
   "execution_count": 22,
   "metadata": {
    "collapsed": true
   },
   "outputs": [],
   "source": [
    "model = Sequential([\n",
    "    Dense(input_dim=2, units=1),\n",
    "    Activation('sigmoid')\n",
    "])"
   ]
  },
  {
   "cell_type": "code",
   "execution_count": 23,
   "metadata": {},
   "outputs": [],
   "source": [
    "model.compile(loss='binary_crossentropy', optimizer=SGD(lr=0.1))"
   ]
  },
  {
   "cell_type": "code",
   "execution_count": 24,
   "metadata": {
    "collapsed": true
   },
   "outputs": [],
   "source": [
    "X = np.array([[0, 0], [0, 1], [1, 0], [1, 1]])\n",
    "Y = np.array([[0], [1], [1], [1]])"
   ]
  },
  {
   "cell_type": "code",
   "execution_count": 26,
   "metadata": {},
   "outputs": [
    {
     "name": "stdout",
     "output_type": "stream",
     "text": [
      "Epoch 1/200\n",
      "4/4 [==============================] - 0s 16ms/step - loss: 0.3557\n",
      "Epoch 2/200\n",
      "4/4 [==============================] - 0s 2ms/step - loss: 0.3489\n",
      "Epoch 3/200\n",
      "4/4 [==============================] - 0s 1ms/step - loss: 0.3427\n",
      "Epoch 4/200\n",
      "4/4 [==============================] - 0s 970us/step - loss: 0.3373\n",
      "Epoch 5/200\n",
      "4/4 [==============================] - 0s 1ms/step - loss: 0.3321\n",
      "Epoch 6/200\n",
      "4/4 [==============================] - 0s 2ms/step - loss: 0.3274\n",
      "Epoch 7/200\n",
      "4/4 [==============================] - 0s 927us/step - loss: 0.3230\n",
      "Epoch 8/200\n",
      "4/4 [==============================] - 0s 1ms/step - loss: 0.3188\n",
      "Epoch 9/200\n",
      "4/4 [==============================] - 0s 911us/step - loss: 0.3149\n",
      "Epoch 10/200\n",
      "4/4 [==============================] - 0s 851us/step - loss: 0.3110\n",
      "Epoch 11/200\n",
      "4/4 [==============================] - 0s 943us/step - loss: 0.3074\n",
      "Epoch 12/200\n",
      "4/4 [==============================] - 0s 1ms/step - loss: 0.3039\n",
      "Epoch 13/200\n",
      "4/4 [==============================] - 0s 920us/step - loss: 0.3006\n",
      "Epoch 14/200\n",
      "4/4 [==============================] - 0s 857us/step - loss: 0.2973\n",
      "Epoch 15/200\n",
      "4/4 [==============================] - 0s 899us/step - loss: 0.2941\n",
      "Epoch 16/200\n",
      "4/4 [==============================] - 0s 892us/step - loss: 0.2910\n",
      "Epoch 17/200\n",
      "4/4 [==============================] - 0s 798us/step - loss: 0.2880\n",
      "Epoch 18/200\n",
      "4/4 [==============================] - 0s 808us/step - loss: 0.2851\n",
      "Epoch 19/200\n",
      "4/4 [==============================] - 0s 798us/step - loss: 0.2823\n",
      "Epoch 20/200\n",
      "4/4 [==============================] - 0s 892us/step - loss: 0.2795\n",
      "Epoch 21/200\n",
      "4/4 [==============================] - 0s 828us/step - loss: 0.2768\n",
      "Epoch 22/200\n",
      "4/4 [==============================] - 0s 843us/step - loss: 0.2741\n",
      "Epoch 23/200\n",
      "4/4 [==============================] - 0s 846us/step - loss: 0.2716\n",
      "Epoch 24/200\n",
      "4/4 [==============================] - 0s 1ms/step - loss: 0.2690\n",
      "Epoch 25/200\n",
      "4/4 [==============================] - 0s 908us/step - loss: 0.2665\n",
      "Epoch 26/200\n",
      "4/4 [==============================] - 0s 931us/step - loss: 0.2641\n",
      "Epoch 27/200\n",
      "4/4 [==============================] - 0s 893us/step - loss: 0.2617\n",
      "Epoch 28/200\n",
      "4/4 [==============================] - 0s 928us/step - loss: 0.2593\n",
      "Epoch 29/200\n",
      "4/4 [==============================] - 0s 1ms/step - loss: 0.2570\n",
      "Epoch 30/200\n",
      "4/4 [==============================] - 0s 848us/step - loss: 0.2548\n",
      "Epoch 31/200\n",
      "4/4 [==============================] - 0s 908us/step - loss: 0.2525\n",
      "Epoch 32/200\n",
      "4/4 [==============================] - 0s 989us/step - loss: 0.2504\n",
      "Epoch 33/200\n",
      "4/4 [==============================] - 0s 952us/step - loss: 0.2482\n",
      "Epoch 34/200\n",
      "4/4 [==============================] - 0s 896us/step - loss: 0.2461\n",
      "Epoch 35/200\n",
      "4/4 [==============================] - 0s 831us/step - loss: 0.2440\n",
      "Epoch 36/200\n",
      "4/4 [==============================] - 0s 1ms/step - loss: 0.2419\n",
      "Epoch 37/200\n",
      "4/4 [==============================] - 0s 1ms/step - loss: 0.2399\n",
      "Epoch 38/200\n",
      "4/4 [==============================] - 0s 979us/step - loss: 0.2379\n",
      "Epoch 39/200\n",
      "4/4 [==============================] - 0s 881us/step - loss: 0.2360\n",
      "Epoch 40/200\n",
      "4/4 [==============================] - 0s 886us/step - loss: 0.2340\n",
      "Epoch 41/200\n",
      "4/4 [==============================] - 0s 1ms/step - loss: 0.2321\n",
      "Epoch 42/200\n",
      "4/4 [==============================] - 0s 1ms/step - loss: 0.2303\n",
      "Epoch 43/200\n",
      "4/4 [==============================] - 0s 867us/step - loss: 0.2284\n",
      "Epoch 44/200\n",
      "4/4 [==============================] - 0s 969us/step - loss: 0.2266\n",
      "Epoch 45/200\n",
      "4/4 [==============================] - 0s 1ms/step - loss: 0.2248\n",
      "Epoch 46/200\n",
      "4/4 [==============================] - 0s 1ms/step - loss: 0.2231\n",
      "Epoch 47/200\n",
      "4/4 [==============================] - 0s 934us/step - loss: 0.2213\n",
      "Epoch 48/200\n",
      "4/4 [==============================] - 0s 1ms/step - loss: 0.2197\n",
      "Epoch 49/200\n",
      "4/4 [==============================] - 0s 1ms/step - loss: 0.2179\n",
      "Epoch 50/200\n",
      "4/4 [==============================] - 0s 2ms/step - loss: 0.2163\n",
      "Epoch 51/200\n",
      "4/4 [==============================] - 0s 2ms/step - loss: 0.2147\n",
      "Epoch 52/200\n",
      "4/4 [==============================] - 0s 2ms/step - loss: 0.2130\n",
      "Epoch 53/200\n",
      "4/4 [==============================] - 0s 1ms/step - loss: 0.2114\n",
      "Epoch 54/200\n",
      "4/4 [==============================] - 0s 1ms/step - loss: 0.2099\n",
      "Epoch 55/200\n",
      "4/4 [==============================] - 0s 3ms/step - loss: 0.2083\n",
      "Epoch 56/200\n",
      "4/4 [==============================] - 0s 1ms/step - loss: 0.2068\n",
      "Epoch 57/200\n",
      "4/4 [==============================] - 0s 2ms/step - loss: 0.2053\n",
      "Epoch 58/200\n",
      "4/4 [==============================] - 0s 1ms/step - loss: 0.2038\n",
      "Epoch 59/200\n",
      "4/4 [==============================] - 0s 947us/step - loss: 0.2023\n",
      "Epoch 60/200\n",
      "4/4 [==============================] - 0s 1ms/step - loss: 0.2009\n",
      "Epoch 61/200\n",
      "4/4 [==============================] - 0s 940us/step - loss: 0.1995\n",
      "Epoch 62/200\n",
      "4/4 [==============================] - 0s 899us/step - loss: 0.1981\n",
      "Epoch 63/200\n",
      "4/4 [==============================] - 0s 934us/step - loss: 0.1967\n",
      "Epoch 64/200\n",
      "4/4 [==============================] - 0s 937us/step - loss: 0.1953\n",
      "Epoch 65/200\n",
      "4/4 [==============================] - 0s 862us/step - loss: 0.1939\n",
      "Epoch 66/200\n",
      "4/4 [==============================] - 0s 909us/step - loss: 0.1926\n",
      "Epoch 67/200\n",
      "4/4 [==============================] - 0s 874us/step - loss: 0.1913\n",
      "Epoch 68/200\n",
      "4/4 [==============================] - 0s 821us/step - loss: 0.1900\n",
      "Epoch 69/200\n",
      "4/4 [==============================] - 0s 802us/step - loss: 0.1887\n",
      "Epoch 70/200\n",
      "4/4 [==============================] - 0s 1ms/step - loss: 0.1874\n",
      "Epoch 71/200\n",
      "4/4 [==============================] - 0s 889us/step - loss: 0.1862\n",
      "Epoch 72/200\n",
      "4/4 [==============================] - 0s 1ms/step - loss: 0.1849\n",
      "Epoch 73/200\n",
      "4/4 [==============================] - 0s 1ms/step - loss: 0.1837\n",
      "Epoch 74/200\n",
      "4/4 [==============================] - 0s 3ms/step - loss: 0.1825\n",
      "Epoch 75/200\n",
      "4/4 [==============================] - 0s 994us/step - loss: 0.1813\n",
      "Epoch 76/200\n",
      "4/4 [==============================] - 0s 1ms/step - loss: 0.1801\n",
      "Epoch 77/200\n",
      "4/4 [==============================] - 0s 1ms/step - loss: 0.1790\n",
      "Epoch 78/200\n",
      "4/4 [==============================] - 0s 927us/step - loss: 0.1778\n",
      "Epoch 79/200\n",
      "4/4 [==============================] - 0s 2ms/step - loss: 0.1767\n",
      "Epoch 80/200\n",
      "4/4 [==============================] - 0s 1ms/step - loss: 0.1756\n",
      "Epoch 81/200\n",
      "4/4 [==============================] - 0s 1ms/step - loss: 0.1744\n",
      "Epoch 82/200\n",
      "4/4 [==============================] - 0s 2ms/step - loss: 0.1733\n",
      "Epoch 83/200\n",
      "4/4 [==============================] - 0s 1ms/step - loss: 0.1722\n",
      "Epoch 84/200\n",
      "4/4 [==============================] - 0s 1ms/step - loss: 0.1712\n",
      "Epoch 85/200\n",
      "4/4 [==============================] - 0s 941us/step - loss: 0.1701\n",
      "Epoch 86/200\n",
      "4/4 [==============================] - 0s 838us/step - loss: 0.1691\n",
      "Epoch 87/200\n",
      "4/4 [==============================] - 0s 1ms/step - loss: 0.1680\n",
      "Epoch 88/200\n",
      "4/4 [==============================] - 0s 1ms/step - loss: 0.1670\n",
      "Epoch 89/200\n",
      "4/4 [==============================] - 0s 1ms/step - loss: 0.1660\n",
      "Epoch 90/200\n",
      "4/4 [==============================] - 0s 1ms/step - loss: 0.1650\n",
      "Epoch 91/200\n",
      "4/4 [==============================] - 0s 1ms/step - loss: 0.1640\n",
      "Epoch 92/200\n",
      "4/4 [==============================] - 0s 1ms/step - loss: 0.1630\n",
      "Epoch 93/200\n",
      "4/4 [==============================] - 0s 832us/step - loss: 0.1621\n",
      "Epoch 94/200\n",
      "4/4 [==============================] - 0s 951us/step - loss: 0.1611\n",
      "Epoch 95/200\n",
      "4/4 [==============================] - 0s 809us/step - loss: 0.1602\n",
      "Epoch 96/200\n",
      "4/4 [==============================] - 0s 936us/step - loss: 0.1592\n",
      "Epoch 97/200\n",
      "4/4 [==============================] - 0s 860us/step - loss: 0.1583\n",
      "Epoch 98/200\n",
      "4/4 [==============================] - 0s 1ms/step - loss: 0.1574\n",
      "Epoch 99/200\n",
      "4/4 [==============================] - 0s 2ms/step - loss: 0.1565\n",
      "Epoch 100/200\n",
      "4/4 [==============================] - 0s 2ms/step - loss: 0.1556\n",
      "Epoch 101/200\n",
      "4/4 [==============================] - 0s 947us/step - loss: 0.1547\n",
      "Epoch 102/200\n",
      "4/4 [==============================] - 0s 875us/step - loss: 0.1538\n",
      "Epoch 103/200\n"
     ]
    },
    {
     "name": "stdout",
     "output_type": "stream",
     "text": [
      "4/4 [==============================] - 0s 873us/step - loss: 0.1530\n",
      "Epoch 104/200\n",
      "4/4 [==============================] - 0s 1ms/step - loss: 0.1521\n",
      "Epoch 105/200\n",
      "4/4 [==============================] - 0s 890us/step - loss: 0.1512\n",
      "Epoch 106/200\n",
      "4/4 [==============================] - 0s 877us/step - loss: 0.1504\n",
      "Epoch 107/200\n",
      "4/4 [==============================] - 0s 1ms/step - loss: 0.1496\n",
      "Epoch 108/200\n",
      "4/4 [==============================] - 0s 1ms/step - loss: 0.1487\n",
      "Epoch 109/200\n",
      "4/4 [==============================] - 0s 890us/step - loss: 0.1479\n",
      "Epoch 110/200\n",
      "4/4 [==============================] - 0s 880us/step - loss: 0.1471\n",
      "Epoch 111/200\n",
      "4/4 [==============================] - 0s 1ms/step - loss: 0.1463\n",
      "Epoch 112/200\n",
      "4/4 [==============================] - 0s 2ms/step - loss: 0.1455\n",
      "Epoch 113/200\n",
      "4/4 [==============================] - 0s 1ms/step - loss: 0.1447\n",
      "Epoch 114/200\n",
      "4/4 [==============================] - 0s 1ms/step - loss: 0.1440\n",
      "Epoch 115/200\n",
      "4/4 [==============================] - 0s 1ms/step - loss: 0.1432\n",
      "Epoch 116/200\n",
      "4/4 [==============================] - 0s 1ms/step - loss: 0.1424\n",
      "Epoch 117/200\n",
      "4/4 [==============================] - 0s 2ms/step - loss: 0.1417\n",
      "Epoch 118/200\n",
      "4/4 [==============================] - 0s 1ms/step - loss: 0.1409\n",
      "Epoch 119/200\n",
      "4/4 [==============================] - 0s 1ms/step - loss: 0.1402\n",
      "Epoch 120/200\n",
      "4/4 [==============================] - 0s 1ms/step - loss: 0.1395\n",
      "Epoch 121/200\n",
      "4/4 [==============================] - 0s 2ms/step - loss: 0.1388\n",
      "Epoch 122/200\n",
      "4/4 [==============================] - 0s 1ms/step - loss: 0.1380\n",
      "Epoch 123/200\n",
      "4/4 [==============================] - 0s 1ms/step - loss: 0.1373\n",
      "Epoch 124/200\n",
      "4/4 [==============================] - 0s 989us/step - loss: 0.1366\n",
      "Epoch 125/200\n",
      "4/4 [==============================] - 0s 927us/step - loss: 0.1359\n",
      "Epoch 126/200\n",
      "4/4 [==============================] - 0s 980us/step - loss: 0.1352\n",
      "Epoch 127/200\n",
      "4/4 [==============================] - 0s 832us/step - loss: 0.1346\n",
      "Epoch 128/200\n",
      "4/4 [==============================] - 0s 1ms/step - loss: 0.1339\n",
      "Epoch 129/200\n",
      "4/4 [==============================] - 0s 873us/step - loss: 0.1332\n",
      "Epoch 130/200\n",
      "4/4 [==============================] - 0s 2ms/step - loss: 0.1325\n",
      "Epoch 131/200\n",
      "4/4 [==============================] - 0s 2ms/step - loss: 0.1319\n",
      "Epoch 132/200\n",
      "4/4 [==============================] - 0s 1ms/step - loss: 0.1312\n",
      "Epoch 133/200\n",
      "4/4 [==============================] - 0s 1ms/step - loss: 0.1306\n",
      "Epoch 134/200\n",
      "4/4 [==============================] - 0s 891us/step - loss: 0.1300\n",
      "Epoch 135/200\n",
      "4/4 [==============================] - 0s 1ms/step - loss: 0.1293\n",
      "Epoch 136/200\n",
      "4/4 [==============================] - 0s 902us/step - loss: 0.1287\n",
      "Epoch 137/200\n",
      "4/4 [==============================] - 0s 922us/step - loss: 0.1281\n",
      "Epoch 138/200\n",
      "4/4 [==============================] - 0s 959us/step - loss: 0.1275\n",
      "Epoch 139/200\n",
      "4/4 [==============================] - 0s 2ms/step - loss: 0.1268\n",
      "Epoch 140/200\n",
      "4/4 [==============================] - 0s 1ms/step - loss: 0.1262\n",
      "Epoch 141/200\n",
      "4/4 [==============================] - 0s 1ms/step - loss: 0.1256\n",
      "Epoch 142/200\n",
      "4/4 [==============================] - 0s 1ms/step - loss: 0.1250\n",
      "Epoch 143/200\n",
      "4/4 [==============================] - 0s 1ms/step - loss: 0.1245\n",
      "Epoch 144/200\n",
      "4/4 [==============================] - 0s 923us/step - loss: 0.1239\n",
      "Epoch 145/200\n",
      "4/4 [==============================] - 0s 920us/step - loss: 0.1233\n",
      "Epoch 146/200\n",
      "4/4 [==============================] - 0s 881us/step - loss: 0.1227\n",
      "Epoch 147/200\n",
      "4/4 [==============================] - 0s 1ms/step - loss: 0.1222\n",
      "Epoch 148/200\n",
      "4/4 [==============================] - 0s 877us/step - loss: 0.1216\n",
      "Epoch 149/200\n",
      "4/4 [==============================] - 0s 1ms/step - loss: 0.1210\n",
      "Epoch 150/200\n",
      "4/4 [==============================] - 0s 1ms/step - loss: 0.1205\n",
      "Epoch 151/200\n",
      "4/4 [==============================] - 0s 2ms/step - loss: 0.1199\n",
      "Epoch 152/200\n",
      "4/4 [==============================] - 0s 1ms/step - loss: 0.1194\n",
      "Epoch 153/200\n",
      "4/4 [==============================] - 0s 1ms/step - loss: 0.1188\n",
      "Epoch 154/200\n",
      "4/4 [==============================] - 0s 881us/step - loss: 0.1183\n",
      "Epoch 155/200\n",
      "4/4 [==============================] - 0s 1ms/step - loss: 0.1178\n",
      "Epoch 156/200\n",
      "4/4 [==============================] - 0s 1ms/step - loss: 0.1172\n",
      "Epoch 157/200\n",
      "4/4 [==============================] - 0s 1ms/step - loss: 0.1167\n",
      "Epoch 158/200\n",
      "4/4 [==============================] - 0s 854us/step - loss: 0.1162\n",
      "Epoch 159/200\n",
      "4/4 [==============================] - 0s 930us/step - loss: 0.1157\n",
      "Epoch 160/200\n",
      "4/4 [==============================] - 0s 936us/step - loss: 0.1152\n",
      "Epoch 161/200\n",
      "4/4 [==============================] - 0s 855us/step - loss: 0.1147\n",
      "Epoch 162/200\n",
      "4/4 [==============================] - 0s 876us/step - loss: 0.1142\n",
      "Epoch 163/200\n",
      "4/4 [==============================] - 0s 1ms/step - loss: 0.1137\n",
      "Epoch 164/200\n",
      "4/4 [==============================] - 0s 945us/step - loss: 0.1132\n",
      "Epoch 165/200\n",
      "4/4 [==============================] - 0s 1ms/step - loss: 0.1127\n",
      "Epoch 166/200\n",
      "4/4 [==============================] - 0s 2ms/step - loss: 0.1122\n",
      "Epoch 167/200\n",
      "4/4 [==============================] - 0s 1ms/step - loss: 0.1117\n",
      "Epoch 168/200\n",
      "4/4 [==============================] - 0s 1ms/step - loss: 0.1113\n",
      "Epoch 169/200\n",
      "4/4 [==============================] - 0s 1ms/step - loss: 0.1108\n",
      "Epoch 170/200\n",
      "4/4 [==============================] - 0s 2ms/step - loss: 0.1103\n",
      "Epoch 171/200\n",
      "4/4 [==============================] - 0s 1ms/step - loss: 0.1098\n",
      "Epoch 172/200\n",
      "4/4 [==============================] - 0s 2ms/step - loss: 0.1094\n",
      "Epoch 173/200\n",
      "4/4 [==============================] - 0s 2ms/step - loss: 0.1089\n",
      "Epoch 174/200\n",
      "4/4 [==============================] - 0s 1ms/step - loss: 0.1085\n",
      "Epoch 175/200\n",
      "4/4 [==============================] - 0s 870us/step - loss: 0.1080\n",
      "Epoch 176/200\n",
      "4/4 [==============================] - 0s 1ms/step - loss: 0.1076\n",
      "Epoch 177/200\n",
      "4/4 [==============================] - 0s 957us/step - loss: 0.1071\n",
      "Epoch 178/200\n",
      "4/4 [==============================] - 0s 1ms/step - loss: 0.1067\n",
      "Epoch 179/200\n",
      "4/4 [==============================] - 0s 1ms/step - loss: 0.1062\n",
      "Epoch 180/200\n",
      "4/4 [==============================] - 0s 1ms/step - loss: 0.1058\n",
      "Epoch 181/200\n",
      "4/4 [==============================] - 0s 1ms/step - loss: 0.1054\n",
      "Epoch 182/200\n",
      "4/4 [==============================] - 0s 2ms/step - loss: 0.1050\n",
      "Epoch 183/200\n",
      "4/4 [==============================] - 0s 1ms/step - loss: 0.1045\n",
      "Epoch 184/200\n",
      "4/4 [==============================] - 0s 1ms/step - loss: 0.1041\n",
      "Epoch 185/200\n",
      "4/4 [==============================] - 0s 1ms/step - loss: 0.1037\n",
      "Epoch 186/200\n",
      "4/4 [==============================] - 0s 2ms/step - loss: 0.1033\n",
      "Epoch 187/200\n",
      "4/4 [==============================] - ETA: 0s - loss: 0.002 - 0s 2ms/step - loss: 0.1029\n",
      "Epoch 188/200\n",
      "4/4 [==============================] - 0s 1ms/step - loss: 0.1025\n",
      "Epoch 189/200\n",
      "4/4 [==============================] - 0s 1ms/step - loss: 0.1020\n",
      "Epoch 190/200\n",
      "4/4 [==============================] - 0s 1ms/step - loss: 0.1017\n",
      "Epoch 191/200\n",
      "4/4 [==============================] - 0s 1ms/step - loss: 0.1012\n",
      "Epoch 192/200\n",
      "4/4 [==============================] - 0s 2ms/step - loss: 0.1009\n",
      "Epoch 193/200\n",
      "4/4 [==============================] - 0s 1ms/step - loss: 0.1005\n",
      "Epoch 194/200\n",
      "4/4 [==============================] - 0s 1ms/step - loss: 0.1001\n",
      "Epoch 195/200\n",
      "4/4 [==============================] - 0s 1ms/step - loss: 0.0997\n",
      "Epoch 196/200\n",
      "4/4 [==============================] - 0s 1ms/step - loss: 0.0993\n",
      "Epoch 197/200\n",
      "4/4 [==============================] - 0s 1ms/step - loss: 0.0989\n",
      "Epoch 198/200\n",
      "4/4 [==============================] - 0s 1ms/step - loss: 0.0985\n",
      "Epoch 199/200\n",
      "4/4 [==============================] - 0s 1ms/step - loss: 0.0982\n",
      "Epoch 200/200\n",
      "4/4 [==============================] - 0s 1ms/step - loss: 0.0978\n"
     ]
    },
    {
     "data": {
      "text/plain": [
       "<keras.callbacks.History at 0x7f97654389e8>"
      ]
     },
     "execution_count": 26,
     "metadata": {},
     "output_type": "execute_result"
    }
   ],
   "source": [
    "model.fit(X, Y, epochs=200, batch_size=1)"
   ]
  },
  {
   "cell_type": "code",
   "execution_count": 29,
   "metadata": {},
   "outputs": [
    {
     "name": "stdout",
     "output_type": "stream",
     "text": [
      "4/4 [==============================] - 0s 981us/step\n",
      "4/4 [==============================] - 0s 687us/step\n"
     ]
    }
   ],
   "source": [
    "classes = model.predict_classes(X, batch_size=1)\n",
    "prob = model.predict_proba(X, batch_size=1)"
   ]
  },
  {
   "cell_type": "code",
   "execution_count": 31,
   "metadata": {},
   "outputs": [
    {
     "name": "stdout",
     "output_type": "stream",
     "text": [
      "classified: \n",
      " [[ True]\n",
      " [ True]\n",
      " [ True]\n",
      " [ True]]\n",
      "\n",
      "output probability: \n",
      "[[ 0.20032355]\n",
      " [ 0.91950035]\n",
      " [ 0.92505693]\n",
      " [ 0.99822646]]\n"
     ]
    }
   ],
   "source": [
    "print('classified: \\n', Y == classes)\n",
    "print()\n",
    "print('output probability: ')\n",
    "print(prob)"
   ]
  },
  {
   "cell_type": "code",
   "execution_count": null,
   "metadata": {
    "collapsed": true
   },
   "outputs": [],
   "source": []
  }
 ],
 "metadata": {
  "kernelspec": {
   "display_name": "Python 3",
   "language": "python",
   "name": "python3"
  },
  "language_info": {
   "codemirror_mode": {
    "name": "ipython",
    "version": 3
   },
   "file_extension": ".py",
   "mimetype": "text/x-python",
   "name": "python",
   "nbconvert_exporter": "python",
   "pygments_lexer": "ipython3",
   "version": "3.6.3"
  }
 },
 "nbformat": 4,
 "nbformat_minor": 2
}
